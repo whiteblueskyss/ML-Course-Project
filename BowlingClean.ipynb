{
  "nbformat": 4,
  "nbformat_minor": 0,
  "metadata": {
    "colab": {
      "provenance": []
    },
    "kernelspec": {
      "name": "python3",
      "display_name": "Python 3"
    },
    "language_info": {
      "name": "python"
    }
  },
  "cells": [
    {
      "cell_type": "code",
      "execution_count": null,
      "metadata": {
        "id": "1uYfqV53xXN_"
      },
      "outputs": [],
      "source": [
        "import pandas as pd"
      ]
    },
    {
      "cell_type": "code",
      "source": [
        "# Load the CSV file\n",
        "file_path = \"testbowling.csv\"\n",
        "df = pd.read_csv(file_path)"
      ],
      "metadata": {
        "id": "zlxnF9XqzLll"
      },
      "execution_count": null,
      "outputs": []
    },
    {
      "cell_type": "code",
      "source": [
        "df.drop('Unnamed: 0', axis=1, inplace=True)\n",
        "df.to_csv(file_path, index=False)"
      ],
      "metadata": {
        "id": "fL_P83nZzgNU"
      },
      "execution_count": null,
      "outputs": []
    },
    {
      "cell_type": "code",
      "source": [
        "df.drop('Avg', axis=1, inplace=True)\n",
        "df.drop('SR', axis=1, inplace=True)\n",
        "df.to_csv(file_path, index=False)"
      ],
      "metadata": {
        "id": "KFF14a9P5p9b"
      },
      "execution_count": null,
      "outputs": []
    },
    {
      "cell_type": "code",
      "source": [
        "df = df[df['Overs'] != '-']\n",
        "# Optional: Reset the index after deletion\n",
        "df = df.reset_index(drop=True)\n",
        "# Save the cleaned DataFrame back to the same file (overwrite)\n",
        "df.to_csv(file_path, index=False)\n"
      ],
      "metadata": {
        "id": "3ts_JQipzp4b"
      },
      "execution_count": null,
      "outputs": []
    },
    {
      "cell_type": "code",
      "source": [
        "df['Overs'] = df['Overs'].apply(lambda x: int(str(x).split('.')[0]))\n",
        "df.to_csv(file_path, index=False)\n"
      ],
      "metadata": {
        "id": "mKG5SD8P4RyW"
      },
      "execution_count": null,
      "outputs": []
    },
    {
      "cell_type": "code",
      "source": [
        "df['Mdns'] = pd.to_numeric(df['Mdns'], errors='coerce').astype('Int64')\n",
        "df['Runs'] = pd.to_numeric(df['Runs'], errors='coerce').astype('Int64')\n",
        "df['Wkts'] = pd.to_numeric(df['Wkts'], errors='coerce').astype('Int64')\n",
        "df.to_csv(file_path, index=False)"
      ],
      "metadata": {
        "id": "WlxCghwV4w1C"
      },
      "execution_count": null,
      "outputs": []
    },
    {
      "cell_type": "code",
      "source": [
        "df['Econ'] = pd.to_numeric(df['Econ'], errors='coerce').astype('float64')\n",
        "df.to_csv(file_path, index=False)"
      ],
      "metadata": {
        "id": "2yEOwL7X5XXn"
      },
      "execution_count": null,
      "outputs": []
    },
    {
      "cell_type": "code",
      "source": [
        "# Convert Date column to datetime format\n",
        "df['Date'] = pd.to_datetime(df['Date'], format='%d %b %Y')  # Example format: \"8 Dec 2024\"\n",
        "df.to_csv(file_path, index=False)"
      ],
      "metadata": {
        "id": "-DgR8jbk6Cch"
      },
      "execution_count": null,
      "outputs": []
    },
    {
      "cell_type": "code",
      "source": [
        "# Sort the data by Date in descending order\n",
        "df = df.sort_values(by='Date', ascending=False)\n",
        "df.to_csv(file_path, index=False)"
      ],
      "metadata": {
        "id": "FwbNL5Bn6R0j"
      },
      "execution_count": null,
      "outputs": []
    },
    {
      "cell_type": "code",
      "source": [
        "# Remove the leading 'v ' (v and space) from the Opposition column\n",
        "df['Opposition'] = df['Opposition'].str.lstrip('v ').str.lstrip()\n",
        "df.to_csv(file_path, index=False)"
      ],
      "metadata": {
        "id": "znggnJiT6a8w"
      },
      "execution_count": null,
      "outputs": []
    },
    {
      "cell_type": "code",
      "source": [
        "df.info()"
      ],
      "metadata": {
        "colab": {
          "base_uri": "https://localhost:8080/"
        },
        "id": "CjW6i-fw6jG_",
        "outputId": "b888c268-0872-43ae-a29b-cd82a90c0656"
      },
      "execution_count": null,
      "outputs": [
        {
          "output_type": "stream",
          "name": "stdout",
          "text": [
            "<class 'pandas.core.frame.DataFrame'>\n",
            "Index: 937 entries, 0 to 936\n",
            "Data columns (total 9 columns):\n",
            " #   Column      Non-Null Count  Dtype         \n",
            "---  ------      --------------  -----         \n",
            " 0   Name        937 non-null    object        \n",
            " 1   Overs       937 non-null    int64         \n",
            " 2   Mdns        937 non-null    Int64         \n",
            " 3   Runs        937 non-null    Int64         \n",
            " 4   Wkts        937 non-null    Int64         \n",
            " 5   Econ        937 non-null    float64       \n",
            " 6   Opposition  937 non-null    object        \n",
            " 7   Ground      937 non-null    object        \n",
            " 8   Date        937 non-null    datetime64[ns]\n",
            "dtypes: Int64(3), datetime64[ns](1), float64(1), int64(1), object(3)\n",
            "memory usage: 75.9+ KB\n"
          ]
        }
      ]
    }
  ]
}