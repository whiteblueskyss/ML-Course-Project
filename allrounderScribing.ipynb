{
  "nbformat": 4,
  "nbformat_minor": 0,
  "metadata": {
    "colab": {
      "provenance": []
    },
    "kernelspec": {
      "name": "python3",
      "display_name": "Python 3"
    },
    "language_info": {
      "name": "python"
    }
  },
  "cells": [
    {
      "cell_type": "code",
      "execution_count": null,
      "metadata": {
        "id": "NICxE8l4QSZW"
      },
      "outputs": [],
      "source": [
        "import requests\n",
        "from bs4 import BeautifulSoup\n",
        "import pandas as pd"
      ]
    },
    {
      "cell_type": "code",
      "source": [
        "\n",
        "t20 = []\n",
        "for i in range(1,40):\n",
        "\n",
        "  url = f\"https://stats.espncricinfo.com/ci/engine/stats/index.html?class=3;filter=advanced;orderby=start;orderbyad=reverse;page={i};team=25;template=results;type=allround;view=match\"\n",
        "  headers = {\n",
        "      \"User-Agent\": \"Mozilla/5.0 (Windows NT 10.0; Win64; x64) AppleWebKit/537.36 (KHTML, like Gecko) Chrome/124.0.0.0 Safari/537.36\"\n",
        "  }\n",
        "\n",
        "  response = requests.get(url, headers=headers)\n",
        "  response = response.content\n",
        "  soup = BeautifulSoup(response, 'html.parser')\n",
        "  tbody = soup.find(\"tbody\")\n",
        "  tr = tbody.find_all('tr', class_ = 'data1')\n",
        "\n",
        "  for td in tr:\n",
        "    datas = td.find_all('td')\n",
        "    name  = datas[0].text\n",
        "    runs = datas[1].text\n",
        "    wkts  = datas[2].text\n",
        "    conc = datas[3].text\n",
        "    ct = datas[4].text\n",
        "    st = datas[5].text\n",
        "    opposition = datas[7].text\n",
        "    ground = datas[8].text\n",
        "    date = datas[9].text\n",
        "\n",
        "    t20.append([name,runs,wkts,conc,ct,st, opposition,ground,date])\n",
        "\n",
        "df = pd.DataFrame(t20, columns=['Name', 'Runs', 'Wkts', 'Conc', 'Ct', 'St', 'Opposition', 'Ground', 'Date'])\n",
        "df.to_csv('t20allrounder.csv')\n"
      ],
      "metadata": {
        "id": "oRqb9jwUQZJl"
      },
      "execution_count": null,
      "outputs": []
    },
    {
      "cell_type": "code",
      "source": [
        "\n",
        "odi = []\n",
        "for i in range(1,98):\n",
        "\n",
        "  url = f\"https://stats.espncricinfo.com/ci/engine/stats/index.html?class=2;filter=advanced;orderby=start;orderbyad=reverse;page={i};team=25;template=results;type=allround;view=match\"\n",
        "  headers = {\n",
        "      \"User-Agent\": \"Mozilla/5.0 (Windows NT 10.0; Win64; x64) AppleWebKit/537.36 (KHTML, like Gecko) Chrome/124.0.0.0 Safari/537.36\"\n",
        "  }\n",
        "\n",
        "  response = requests.get(url, headers=headers)\n",
        "  response = response.content\n",
        "  soup = BeautifulSoup(response, 'html.parser')\n",
        "  tbody = soup.find(\"tbody\")\n",
        "  tr = tbody.find_all('tr', class_ = 'data1')\n",
        "\n",
        "  for td in tr:\n",
        "    datas = td.find_all('td')\n",
        "    name  = datas[0].text\n",
        "    runs = datas[1].text\n",
        "    wkts  = datas[2].text\n",
        "    conc = datas[3].text\n",
        "    ct = datas[4].text\n",
        "    st = datas[5].text\n",
        "    opposition = datas[7].text\n",
        "    ground = datas[8].text\n",
        "    date = datas[9].text\n",
        "\n",
        "    odi.append([name,runs,wkts,conc,ct,st, opposition,ground,date])\n",
        "\n",
        "df = pd.DataFrame(odi, columns=['Name', 'Runs', 'Wkts', 'Conc', 'Ct', 'St', 'Opposition', 'Ground', 'Date'])\n",
        "df.to_csv('odiallrounder.csv')\n",
        "\n"
      ],
      "metadata": {
        "id": "knp8e8igYI0w"
      },
      "execution_count": null,
      "outputs": []
    },
    {
      "cell_type": "code",
      "source": [
        "\n",
        "test = []\n",
        "for i in range(1,34):\n",
        "\n",
        "  url = f\"https://stats.espncricinfo.com/ci/engine/stats/index.html?class=1;filter=advanced;orderby=start;orderbyad=reverse;page={i};team=25;template=results;type=allround;view=match\"\n",
        "  headers = {\n",
        "      \"User-Agent\": \"Mozilla/5.0 (Windows NT 10.0; Win64; x64) AppleWebKit/537.36 (KHTML, like Gecko) Chrome/124.0.0.0 Safari/537.36\"\n",
        "  }\n",
        "\n",
        "  response = requests.get(url, headers=headers)\n",
        "  response = response.content\n",
        "  soup = BeautifulSoup(response, 'html.parser')\n",
        "  tbody = soup.find(\"tbody\")\n",
        "  tr = tbody.find_all('tr', class_ = 'data1')\n",
        "\n",
        "  for td in tr:\n",
        "    datas = td.find_all('td')\n",
        "    name  = datas[0].text\n",
        "    run1 = datas[1].text\n",
        "    run2 = datas[2].text\n",
        "    runs = datas[3].text\n",
        "    wkts  = datas[4].text\n",
        "    conc = datas[5].text\n",
        "    ct = datas[6].text\n",
        "    st = datas[7].text\n",
        "    opposition = datas[9].text\n",
        "    ground = datas[10].text\n",
        "    date = datas[11].text\n",
        "\n",
        "    test.append([name,run1, run2, runs, wkts,conc,ct,st, opposition,ground,date])\n",
        "\n",
        "df = pd.DataFrame(test, columns=['Name', 'Run1', 'run2', 'runs', 'Wkts', 'Conc', 'Ct', 'St', 'Opposition', 'Ground', 'Date'])\n",
        "df.to_csv('testallrounder.csv')\n"
      ],
      "metadata": {
        "id": "r5VH08oEZBLF"
      },
      "execution_count": null,
      "outputs": []
    }
  ]
}