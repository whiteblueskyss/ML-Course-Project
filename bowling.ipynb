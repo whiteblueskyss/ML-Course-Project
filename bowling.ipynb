{
  "nbformat": 4,
  "nbformat_minor": 0,
  "metadata": {
    "colab": {
      "provenance": []
    },
    "kernelspec": {
      "name": "python3",
      "display_name": "Python 3"
    },
    "language_info": {
      "name": "python"
    }
  },
  "cells": [
    {
      "cell_type": "code",
      "execution_count": null,
      "metadata": {
        "id": "iWnH4x_a0QpJ"
      },
      "outputs": [],
      "source": [
        "import pandas as pd"
      ]
    },
    {
      "cell_type": "code",
      "source": [
        "path = 'cleanodibowling.csv'\n",
        "df = pd.read_csv(path)\n",
        "# df.info()"
      ],
      "metadata": {
        "colab": {
          "base_uri": "https://localhost:8080/"
        },
        "id": "8SYd02tZ2ZLe",
        "outputId": "277b5033-24f9-4abf-e36b-1f20f6b3da91"
      },
      "execution_count": null,
      "outputs": [
        {
          "output_type": "stream",
          "name": "stdout",
          "text": [
            "<class 'pandas.core.frame.DataFrame'>\n",
            "RangeIndex: 2652 entries, 0 to 2651\n",
            "Data columns (total 9 columns):\n",
            " #   Column      Non-Null Count  Dtype  \n",
            "---  ------      --------------  -----  \n",
            " 0   Name        2652 non-null   object \n",
            " 1   Overs       2652 non-null   int64  \n",
            " 2   Mdns        2652 non-null   int64  \n",
            " 3   Runs        2652 non-null   int64  \n",
            " 4   Wkts        2652 non-null   int64  \n",
            " 5   Econ        2652 non-null   float64\n",
            " 6   Opposition  2652 non-null   object \n",
            " 7   Ground      2652 non-null   object \n",
            " 8   Date        2652 non-null   object \n",
            "dtypes: float64(1), int64(4), object(4)\n",
            "memory usage: 186.6+ KB\n"
          ]
        }
      ]
    },
    {
      "cell_type": "code",
      "source": [
        "df['Date'] = pd.to_datetime(df['Date'], errors='coerce')"
      ],
      "metadata": {
        "id": "MWlAuj9m9PBb"
      },
      "execution_count": null,
      "outputs": []
    },
    {
      "cell_type": "code",
      "source": [
        "df['Days_Since_Match'] = (df['Date'].max() - df['Date']).dt.days\n",
        "df.to_csv('cleanodibowling.csv', index=False)"
      ],
      "metadata": {
        "id": "l8hpG6rC7wy-"
      },
      "execution_count": null,
      "outputs": []
    },
    {
      "cell_type": "code",
      "source": [
        "from sklearn.preprocessing import LabelEncoder\n",
        "\n",
        "label_encoder = LabelEncoder()\n",
        "\n",
        "df['Opposition_Encoded'] = label_encoder.fit_transform(df['Opposition'])\n",
        "df['Ground_Encoded'] = label_encoder.fit_transform(df['Ground'])\n",
        "\n",
        "print(df[['Opposition', 'Opposition_Encoded', 'Ground', 'Ground_Encoded']].head())\n",
        "\n",
        "df.to_csv('cleanodibowling.csv', index=False)"
      ],
      "metadata": {
        "colab": {
          "base_uri": "https://localhost:8080/"
        },
        "id": "RDvxu2sU9lR2",
        "outputId": "e26d58aa-06ef-4140-dcc1-7216134e3a6a"
      },
      "execution_count": null,
      "outputs": [
        {
          "output_type": "stream",
          "name": "stdout",
          "text": [
            "    Opposition  Opposition_Encoded      Ground  Ground_Encoded\n",
            "0  West Indies                  16  Basseterre               3\n",
            "1  West Indies                  16  Basseterre               3\n",
            "2  West Indies                  16  Basseterre               3\n",
            "3  West Indies                  16  Basseterre               3\n",
            "4  West Indies                  16  Basseterre               3\n"
          ]
        }
      ]
    },
    {
      "cell_type": "code",
      "source": [
        "X = df[['Overs', 'Mdns', 'Runs', 'Econ', 'Days_Since_Match', 'Opposition_Encoded', 'Ground_Encoded']]\n",
        "y = df['Wkts']\n"
      ],
      "metadata": {
        "id": "5NpotEC_-mSN"
      },
      "execution_count": null,
      "outputs": []
    },
    {
      "cell_type": "code",
      "source": [
        "from sklearn.model_selection import train_test_split\n",
        "\n",
        "X_train, X_test, y_train, y_test = train_test_split(X, y, test_size=0.2, random_state=42)\n",
        "\n",
        "print(f\"Training set: {X_train.shape}, Test set: {X_test.shape}\")"
      ],
      "metadata": {
        "colab": {
          "base_uri": "https://localhost:8080/"
        },
        "id": "FT697yFd-v_g",
        "outputId": "59ce1e7b-c9ef-46ae-a15b-e975d348cbf8"
      },
      "execution_count": null,
      "outputs": [
        {
          "output_type": "stream",
          "name": "stdout",
          "text": [
            "Training set: (2121, 7), Test set: (531, 7)\n"
          ]
        }
      ]
    },
    {
      "cell_type": "code",
      "source": [
        "from sklearn.ensemble import RandomForestRegressor\n",
        "\n",
        "rf_model = RandomForestRegressor(n_estimators=100, random_state=42)\n",
        "\n",
        "rf_model.fit(X_train, y_train)\n",
        "\n",
        "y_pred = rf_model.predict(X_test)\n",
        "\n",
        "train_score = rf_model.score(X_train, y_train)  # R-squared score on training set\n",
        "test_score = rf_model.score(X_test, y_test)  # R-squared score on testing set\n",
        "\n",
        "print(f\"Training Score (R^2): {train_score}\")\n",
        "print(f\"Test Score (R^2): {test_score}\")\n"
      ],
      "metadata": {
        "colab": {
          "base_uri": "https://localhost:8080/"
        },
        "id": "c2jmRALV-94M",
        "outputId": "35749a6b-35dc-4c84-95f4-fd9fdbfc48ad"
      },
      "execution_count": null,
      "outputs": [
        {
          "output_type": "stream",
          "name": "stdout",
          "text": [
            "Training Score (R^2): 0.8746671578585183\n",
            "Test Score (R^2): 0.17213533089143884\n"
          ]
        }
      ]
    },
    {
      "cell_type": "code",
      "source": [
        "from sklearn.metrics import mean_squared_error\n",
        "\n",
        "mse = mean_squared_error(y_test, y_pred)\n",
        "print(f\"Mean Squared Error: {mse}\")\n"
      ],
      "metadata": {
        "colab": {
          "base_uri": "https://localhost:8080/"
        },
        "id": "4AxyvT0q_FcC",
        "outputId": "ad1cf0ca-5f5e-4d29-d924-61afdc56c930"
      },
      "execution_count": null,
      "outputs": [
        {
          "output_type": "stream",
          "name": "stdout",
          "text": [
            "Mean Squared Error: 1.0791387327094837\n"
          ]
        }
      ]
    },
    {
      "cell_type": "code",
      "source": [
        "df['Predicted_Wkts'] = rf_model.predict(X)\n",
        "\n",
        "top_10_bowlers = df[['Name', 'Predicted_Wkts']].sort_values(by='Predicted_Wkts', ascending=False).head(10)\n",
        "\n",
        "print(top_10_bowlers)\n"
      ],
      "metadata": {
        "colab": {
          "base_uri": "https://localhost:8080/"
        },
        "id": "Tn54VSfG_aP8",
        "outputId": "89a2d8f2-7918-4086-a673-593e4dba08ba"
      },
      "execution_count": null,
      "outputs": [
        {
          "output_type": "stream",
          "name": "stdout",
          "text": [
            "                   Name  Predicted_Wkts\n",
            "828   Mustafizur Rahman           4.335\n",
            "1259       Abdur Razzak           4.250\n",
            "200        Hasan Mahmud           4.110\n",
            "1050       Ziaur Rahman           4.080\n",
            "1435       Abdur Razzak           4.080\n",
            "1656        Farhad Reza           4.080\n",
            "276        Taskin Ahmed           4.040\n",
            "329     Shakib Al Hasan           4.020\n",
            "238     Shakib Al Hasan           3.930\n",
            "1841       Abdur Razzak           3.920\n"
          ]
        }
      ]
    },
    {
      "cell_type": "code",
      "source": [
        "df['Adjusted_Recency'] = df['Days_Since_Match'].max() - df['Days_Since_Match']\n",
        "\n",
        "print(df[['Name', 'Days_Since_Match', 'Adjusted_Recency']].head())\n"
      ],
      "metadata": {
        "colab": {
          "base_uri": "https://localhost:8080/"
        },
        "id": "0esERm5tAJQQ",
        "outputId": "d7af652b-bb70-4df8-87df-751c5bb85815"
      },
      "execution_count": null,
      "outputs": [
        {
          "output_type": "stream",
          "name": "stdout",
          "text": [
            "                 Name  Days_Since_Match  Adjusted_Recency\n",
            "0        Afif Hossain                 0             13191\n",
            "1      Shoriful Islam                 0             13191\n",
            "2  Tanzim Hasan Sakib                 0             13191\n",
            "3  Mehidy Hasan Miraz                 0             13191\n",
            "4      Rishad Hossain                 0             13191\n"
          ]
        }
      ]
    },
    {
      "cell_type": "code",
      "source": [
        "import numpy as np\n",
        "\n",
        "df['Log_Recency'] = np.log(df['Days_Since_Match'] + 1)\n",
        "\n",
        "print(df[['Name', 'Days_Since_Match', 'Log_Recency']].head())\n"
      ],
      "metadata": {
        "colab": {
          "base_uri": "https://localhost:8080/"
        },
        "id": "iA8EpFqGAORk",
        "outputId": "ca0fa8d8-5124-4d13-ac79-f4e6448be4d1"
      },
      "execution_count": null,
      "outputs": [
        {
          "output_type": "stream",
          "name": "stdout",
          "text": [
            "                 Name  Days_Since_Match  Log_Recency\n",
            "0        Afif Hossain                 0          0.0\n",
            "1      Shoriful Islam                 0          0.0\n",
            "2  Tanzim Hasan Sakib                 0          0.0\n",
            "3  Mehidy Hasan Miraz                 0          0.0\n",
            "4      Rishad Hossain                 0          0.0\n"
          ]
        }
      ]
    },
    {
      "cell_type": "code",
      "source": [
        "X = df[['Overs', 'Mdns', 'Runs', 'Econ', 'Adjusted_Recency', 'Opposition_Encoded', 'Ground_Encoded']]\n",
        "\n",
        "rf_model = RandomForestRegressor(n_estimators=100, random_state=42)\n",
        "rf_model.fit(X_train, y_train)\n",
        "\n",
        "y_pred = rf_model.predict(X_test)\n"
      ],
      "metadata": {
        "id": "FPSaBeCaASac"
      },
      "execution_count": null,
      "outputs": []
    },
    {
      "cell_type": "code",
      "source": [
        "X = df[['Overs', 'Mdns', 'Runs', 'Econ', 'Adjusted_Recency', 'Opposition_Encoded', 'Ground_Encoded']]\n",
        "\n",
        "X_train, X_test, y_train, y_test = train_test_split(X, y, test_size=0.2, random_state=42)\n",
        "\n",
        "rf_model = RandomForestRegressor(n_estimators=100, random_state=42)\n",
        "rf_model.fit(X_train, y_train)\n",
        "\n",
        "y_pred = rf_model.predict(X_test)\n",
        "\n",
        "df['Predicted_Wkts'] = rf_model.predict(X)\n",
        "\n",
        "top_10_bowlers = df[['Name', 'Predicted_Wkts']].sort_values(by='Predicted_Wkts', ascending=False).head(10)\n",
        "print(top_10_bowlers)"
      ],
      "metadata": {
        "colab": {
          "base_uri": "https://localhost:8080/"
        },
        "id": "0svHF45SAWAZ",
        "outputId": "0841cf6d-8a9d-48f1-adc6-14f1b4104324"
      },
      "execution_count": null,
      "outputs": [
        {
          "output_type": "stream",
          "name": "stdout",
          "text": [
            "                   Name  Predicted_Wkts\n",
            "828   Mustafizur Rahman            4.36\n",
            "1259       Abdur Razzak            4.32\n",
            "200        Hasan Mahmud            4.15\n",
            "1050       Ziaur Rahman            4.12\n",
            "276        Taskin Ahmed            4.04\n",
            "1656        Farhad Reza            4.02\n",
            "1435       Abdur Razzak            4.02\n",
            "238     Shakib Al Hasan            3.97\n",
            "1841       Abdur Razzak            3.95\n",
            "329     Shakib Al Hasan            3.92\n"
          ]
        }
      ]
    },
    {
      "cell_type": "code",
      "source": [
        "df['Predicted_Wkts'] = rf_model.predict(X)\n",
        "\n",
        "print(df[['Name', 'Predicted_Wkts']].head(10))\n",
        "\n",
        "df.to_csv('cleanodibowling.csv', index=False)"
      ],
      "metadata": {
        "colab": {
          "base_uri": "https://localhost:8080/"
        },
        "id": "AIASui56BKOE",
        "outputId": "c9bf75b2-4bfa-4458-abed-155b8b1f8b9d"
      },
      "execution_count": null,
      "outputs": [
        {
          "output_type": "stream",
          "name": "stdout",
          "text": [
            "                 Name  Predicted_Wkts\n",
            "0        Afif Hossain        0.940000\n",
            "1      Shoriful Islam        0.200000\n",
            "2  Tanzim Hasan Sakib        0.180000\n",
            "3  Mehidy Hasan Miraz        0.350000\n",
            "4      Rishad Hossain        0.885000\n",
            "5          Nahid Rana        1.131667\n",
            "6  Mehidy Hasan Miraz        0.888333\n",
            "7  Tanzim Hasan Sakib        1.196667\n",
            "8        Taskin Ahmed        0.560000\n",
            "9          Nahid Rana        1.030000\n"
          ]
        }
      ]
    },
    {
      "cell_type": "code",
      "source": [
        "player_predicted_wickets = df.groupby('Name')['Predicted_Wkts'].mean()  # You can use sum() instead of mean() if desired\n",
        "\n",
        "player_predicted_wickets = player_predicted_wickets.reset_index()\n",
        "\n",
        "print(player_predicted_wickets.head())\n"
      ],
      "metadata": {
        "colab": {
          "base_uri": "https://localhost:8080/"
        },
        "id": "F0v15nYjBeUZ",
        "outputId": "631018d4-32b4-446f-bfe1-457c4caba70c"
      },
      "execution_count": null,
      "outputs": [
        {
          "output_type": "stream",
          "name": "stdout",
          "text": [
            "           Name  Predicted_Wkts\n",
            "0  Abdur Razzak        1.390961\n",
            "1     Abu Hider        1.625000\n",
            "2     Abu Jayed        2.105000\n",
            "3    Abul Hasan        0.328571\n",
            "4  Afif Hossain        0.450000\n"
          ]
        }
      ]
    },
    {
      "cell_type": "code",
      "source": [
        "top_10_players = player_predicted_wickets.sort_values(by='Predicted_Wkts', ascending=False).head(10)\n",
        "\n",
        "print(top_10_players)\n"
      ],
      "metadata": {
        "colab": {
          "base_uri": "https://localhost:8080/"
        },
        "id": "W4i3r0wZBylj",
        "outputId": "34c06a4b-fac4-433e-fbaf-a26883a5bd50"
      },
      "execution_count": null,
      "outputs": [
        {
          "output_type": "stream",
          "name": "stdout",
          "text": [
            "                 Name  Predicted_Wkts\n",
            "2           Abu Jayed        2.105000\n",
            "19     Ebadot Hossain        1.647727\n",
            "1           Abu Hider        1.625000\n",
            "96     Sunzamul Islam        1.611111\n",
            "98       Taijul Islam        1.583150\n",
            "95       Subashis Roy        1.540417\n",
            "65  Mustafizur Rahman        1.479750\n",
            "14       Arafat Sunny        1.462500\n",
            "90     Shoriful Islam        1.419583\n",
            "0        Abdur Razzak        1.390961\n"
          ]
        }
      ]
    },
    {
      "cell_type": "code",
      "source": [
        "import numpy as np\n",
        "import pandas as pd\n",
        "from sklearn.ensemble import RandomForestRegressor\n",
        "from sklearn.model_selection import train_test_split\n",
        "\n",
        "decay_factor = np.exp(-df['Days_Since_Match'] / 365)  # Adjust 365 to fine-tune decay speed\n",
        "\n",
        "df['Decay_Factor'] = decay_factor\n",
        "\n",
        "X = df[['Overs', 'Mdns', 'Runs', 'Econ', 'Decay_Factor', 'Opposition_Encoded', 'Ground_Encoded']]\n",
        "y = df['Wkts']  # Target variable: Number of wickets taken\n",
        "\n",
        "X_train, X_test, y_train, y_test = train_test_split(X, y, test_size=0.2, random_state=42)\n",
        "\n",
        "rf_model = RandomForestRegressor(n_estimators=100, random_state=42)\n",
        "rf_model.fit(X_train, y_train)\n",
        "\n",
        "df['Predicted_Wkts'] = rf_model.predict(X)\n",
        "\n",
        "df['Weighted_Predicted_Wkts'] = df['Predicted_Wkts'] * df['Decay_Factor']\n",
        "\n",
        "player_weighted_predicted_wickets = df.groupby('Name')['Weighted_Predicted_Wkts'].sum().reset_index()\n",
        "\n",
        "top_10_players = player_weighted_predicted_wickets.sort_values(by='Weighted_Predicted_Wkts', ascending=False).head(10)\n",
        "\n",
        "print(top_10_players)\n"
      ],
      "metadata": {
        "colab": {
          "base_uri": "https://localhost:8080/"
        },
        "id": "rKYPCPG3CIUX",
        "outputId": "fec3c55b-43d0-4730-8e2e-a6d07fd40a22"
      },
      "execution_count": null,
      "outputs": [
        {
          "output_type": "stream",
          "name": "stdout",
          "text": [
            "                   Name  Weighted_Predicted_Wkts\n",
            "50   Mehidy Hasan Miraz                17.279053\n",
            "90       Shoriful Islam                15.638452\n",
            "65    Mustafizur Rahman                15.086418\n",
            "105        Taskin Ahmed                13.498616\n",
            "85      Shakib Al Hasan                 9.003395\n",
            "71          Nasum Ahmed                 7.078953\n",
            "33         Hasan Mahmud                 5.604321\n",
            "102  Tanzim Hasan Sakib                 5.433056\n",
            "67           Nahid Rana                 4.115506\n",
            "76       Rishad Hossain                 3.632862\n"
          ]
        }
      ]
    },
    {
      "cell_type": "code",
      "source": [
        "from sklearn.metrics import mean_absolute_error, mean_squared_error, r2_score\n",
        "import numpy as np\n",
        "\n",
        "\n",
        "y_pred = rf_model.predict(X_test)\n",
        "\n",
        "\n",
        "mae = mean_absolute_error(y_test, y_pred)\n",
        "print(f\"Mean Absolute Error (MAE): {mae}\")\n",
        "\n",
        "mse = mean_squared_error(y_test, y_pred)\n",
        "print(f\"Mean Squared Error (MSE): {mse}\")\n",
        "\n",
        "rmse = np.sqrt(mse)\n",
        "print(f\"Root Mean Squared Error (RMSE): {rmse}\")\n",
        "\n",
        "r2 = r2_score(y_test, y_pred)\n",
        "print(f\"R-squared (R²): {r2}\")\n"
      ],
      "metadata": {
        "colab": {
          "base_uri": "https://localhost:8080/"
        },
        "id": "zx9l_THaCy43",
        "outputId": "c5a42835-a1b6-4690-89c4-46e733e620c7"
      },
      "execution_count": null,
      "outputs": [
        {
          "output_type": "stream",
          "name": "stdout",
          "text": [
            "Mean Absolute Error (MAE): 0.8068021552626072\n",
            "Mean Squared Error (MSE): 1.1074252531968567\n",
            "Root Mean Squared Error (RMSE): 1.0523427451153244\n",
            "R-squared (R²): 0.15043523783230506\n"
          ]
        }
      ]
    },
    {
      "cell_type": "code",
      "source": [
        "from sklearn.linear_model import LinearRegression\n",
        "from sklearn.tree import DecisionTreeRegressor\n",
        "from sklearn.ensemble import GradientBoostingRegressor\n",
        "from sklearn.svm import SVR\n",
        "from sklearn.neighbors import KNeighborsRegressor\n",
        "from sklearn.metrics import mean_absolute_error, mean_squared_error, r2_score\n",
        "import numpy as np\n",
        "\n",
        "models = {\n",
        "    'Linear Regression': LinearRegression(),\n",
        "    'Decision Tree Regressor': DecisionTreeRegressor(random_state=42),\n",
        "    'Gradient Boosting Regressor': GradientBoostingRegressor(random_state=42),\n",
        "    'SVR': SVR(),\n",
        "    'K-Nearest Neighbors': KNeighborsRegressor()\n",
        "}\n",
        "\n",
        "model_results = {}\n",
        "\n",
        "for model_name, model in models.items():\n",
        "    model.fit(X_train, y_train)\n",
        "\n",
        "    y_pred = model.predict(X_test)\n",
        "\n",
        "    mae = mean_absolute_error(y_test, y_pred)\n",
        "    mse = mean_squared_error(y_test, y_pred)\n",
        "    rmse = np.sqrt(mse)\n",
        "    r2 = r2_score(y_test, y_pred)\n",
        "\n",
        "    model_results[model_name] = {\n",
        "        'MAE': mae,\n",
        "        'MSE': mse,\n",
        "        'RMSE': rmse,\n",
        "        'R²': r2\n",
        "    }\n",
        "\n",
        "results_df = pd.DataFrame(model_results).T\n",
        "print(results_df)\n"
      ],
      "metadata": {
        "colab": {
          "base_uri": "https://localhost:8080/"
        },
        "id": "CwZ1wH4dDGP8",
        "outputId": "36636cb1-fb27-475f-aba3-d02efcf89286"
      },
      "execution_count": null,
      "outputs": [
        {
          "output_type": "stream",
          "name": "stdout",
          "text": [
            "                                  MAE       MSE      RMSE        R²\n",
            "Linear Regression            0.774257  1.014026  1.006989  0.222086\n",
            "Decision Tree Regressor      1.064972  2.262241  1.504075 -0.735485\n",
            "Gradient Boosting Regressor  0.769998  1.016966  1.008447  0.219831\n",
            "SVR                          0.757544  1.094469  1.046168  0.160375\n",
            "K-Nearest Neighbors          0.838795  1.215292  1.102403  0.067685\n"
          ]
        }
      ]
    },
    {
      "cell_type": "code",
      "source": [
        "from sklearn.linear_model import LinearRegression\n",
        "from sklearn.tree import DecisionTreeRegressor\n",
        "from sklearn.ensemble import GradientBoostingRegressor\n",
        "from sklearn.svm import SVR\n",
        "from sklearn.neighbors import KNeighborsRegressor\n",
        "from sklearn.metrics import mean_absolute_error, mean_squared_error, r2_score\n",
        "import numpy as np\n",
        "\n",
        "models = {\n",
        "    'Linear Regression': LinearRegression(),\n",
        "    'Decision Tree Regressor': DecisionTreeRegressor(random_state=42),\n",
        "    'Gradient Boosting Regressor': GradientBoostingRegressor(random_state=42),\n",
        "    'SVR': SVR(),\n",
        "    'K-Nearest Neighbors': KNeighborsRegressor()\n",
        "}\n",
        "\n",
        "model_results = {}\n",
        "\n",
        "target_range = y_train.max() - y_train.min()\n",
        "\n",
        "for model_name, model in models.items():\n",
        "    model.fit(X_train, y_train)\n",
        "\n",
        "    y_pred = model.predict(X_test)\n",
        "\n",
        "    mae = mean_absolute_error(y_test, y_pred)\n",
        "    mse = mean_squared_error(y_test, y_pred)\n",
        "    rmse = np.sqrt(mse)\n",
        "    r2 = r2_score(y_test, y_pred)\n",
        "\n",
        "    mae_percentage = (mae / target_range) * 100\n",
        "    mse_percentage = (mse / target_range**2) * 100\n",
        "    rmse_percentage = (rmse / target_range) * 100\n",
        "    r2_percentage = r2 * 100\n",
        "\n",
        "    model_results[model_name] = {\n",
        "        'MAE (%)': mae_percentage,\n",
        "        'MSE (%)': mse_percentage,\n",
        "        'RMSE (%)': rmse_percentage,\n",
        "        'R² (%)': r2_percentage\n",
        "    }\n",
        "\n",
        "results_df = pd.DataFrame(model_results).T\n",
        "print(results_df)\n"
      ],
      "metadata": {
        "colab": {
          "base_uri": "https://localhost:8080/"
        },
        "id": "CA_HBxNNDStU",
        "outputId": "4a1b5d72-9943-4616-8f99-d058a91a6535"
      },
      "execution_count": null,
      "outputs": [
        {
          "output_type": "stream",
          "name": "stdout",
          "text": [
            "                               MAE (%)   MSE (%)   RMSE (%)     R² (%)\n",
            "Linear Regression            12.904290  2.816740  16.783146  22.208645\n",
            "Decision Tree Regressor      17.749529  6.284003  25.067914 -73.548533\n",
            "Gradient Boosting Regressor  12.833306  2.824905  16.807454  21.983144\n",
            "SVR                          12.625730  3.040190  17.436142  16.037504\n",
            "K-Nearest Neighbors          13.979912  3.375811  18.373380   6.768500\n"
          ]
        }
      ]
    },
    {
      "cell_type": "code",
      "source": [
        "import numpy as np\n",
        "import pandas as pd\n",
        "from sklearn.ensemble import GradientBoostingRegressor\n",
        "from datetime import datetime\n",
        "\n",
        "\n",
        "df['Date'] = pd.to_datetime(df['Date'])\n",
        "df['days_since_match'] = (datetime.now() - df['Date']).dt.days\n",
        "\n",
        "df_aggregated = df.groupby('Name').agg(\n",
        "    total_wickets=('Wkts', 'sum'),\n",
        "    total_overs=('Overs', 'sum'),\n",
        "    mean_econ=('Econ', 'mean'),\n",
        "    mean_mdns=('Mdns', 'mean'),\n",
        "    total_runs=('Runs', 'sum'),\n",
        "    ground_list=('Ground', 'unique'),\n",
        "    opposition_list=('Opposition', 'unique'),\n",
        "    avg_days_since_match=('days_since_match', 'mean')\n",
        ").reset_index()\n",
        "\n",
        "df_aggregated['Econ_Wkts_Interaction'] = df_aggregated['mean_econ'] * df_aggregated['total_wickets']\n",
        "df_aggregated['Econ_Wkts_Ratio'] = df_aggregated['mean_econ'] / (df_aggregated['total_wickets'] + 1)  # Avoid division by zero\n",
        "df_aggregated['Econ_Wkts_Difference'] = df_aggregated['mean_econ'] - df_aggregated['total_wickets']\n",
        "\n",
        "# X = df_aggregated[['mean_econ', 'mean_mdns', 'total_overs', 'Econ_Wkts_Interaction', 'Econ_Wkts_Ratio', 'Econ_Wkts_Difference']]\n",
        "# model = GradientBoostingRegressor()  # Your trained model\n",
        "\n",
        "df_aggregated['Predicted_Wkts'] = df_aggregated['total_wickets']  # Replace with actual model predictions\n",
        "\n",
        "def apply_time_decay(row, lambda_decay=0.01):\n",
        "    decay_score = row['Predicted_Wkts'] * np.exp(-lambda_decay * row['avg_days_since_match'])\n",
        "    return decay_score\n",
        "\n",
        "df_aggregated['Decay_Score'] = df_aggregated.apply(apply_time_decay, axis=1)\n",
        "\n",
        "def boost_for_venue_opposition(row, venue_input, opposition_input):\n",
        "    score = row['Decay_Score']  # Start with the decay-adjusted score\n",
        "\n",
        "    if venue_input in row['ground_list']:\n",
        "        score += 0.5\n",
        "\n",
        "    if opposition_input in row['opposition_list']:\n",
        "        score += 0.3\n",
        "\n",
        "    return score\n",
        "\n",
        "opposition_input = 'West Indies'\n",
        "venue_input = 'Basseterre'\n",
        "\n",
        "df_aggregated['Adjusted_Score'] = df_aggregated.apply(boost_for_venue_opposition, axis=1, venue_input=venue_input, opposition_input=opposition_input)\n",
        "\n",
        "\n",
        "print(top_10_bowlers)"
      ],
      "metadata": {
        "colab": {
          "base_uri": "https://localhost:8080/"
        },
        "id": "dSLQH7MsEPxw",
        "outputId": "757ed3ae-681f-4875-a0b0-2dd74ff8832e"
      },
      "execution_count": null,
      "outputs": [
        {
          "output_type": "stream",
          "name": "stdout",
          "text": [
            "                   Name  Predicted_Wkts\n",
            "828   Mustafizur Rahman            4.36\n",
            "1259       Abdur Razzak            4.32\n",
            "200        Hasan Mahmud            4.15\n",
            "1050       Ziaur Rahman            4.12\n",
            "276        Taskin Ahmed            4.04\n",
            "1656        Farhad Reza            4.02\n",
            "1435       Abdur Razzak            4.02\n",
            "238     Shakib Al Hasan            3.97\n",
            "1841       Abdur Razzak            3.95\n",
            "329     Shakib Al Hasan            3.92\n"
          ]
        }
      ]
    }
  ]
}