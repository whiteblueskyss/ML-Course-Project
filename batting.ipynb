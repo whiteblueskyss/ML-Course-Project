{
  "nbformat": 4,
  "nbformat_minor": 0,
  "metadata": {
    "colab": {
      "provenance": []
    },
    "kernelspec": {
      "name": "python3",
      "display_name": "Python 3"
    },
    "language_info": {
      "name": "python"
    }
  },
  "cells": [
    {
      "cell_type": "code",
      "execution_count": null,
      "metadata": {
        "id": "3lFtgFwwGRlr"
      },
      "outputs": [],
      "source": [
        "import pandas as pd"
      ]
    },
    {
      "cell_type": "code",
      "source": [
        "file_path = 'CleanOdiBatting.csv'\n",
        "data = pd.read_csv(file_path)"
      ],
      "metadata": {
        "id": "tqKNB5P1u1uz"
      },
      "execution_count": null,
      "outputs": []
    },
    {
      "cell_type": "code",
      "source": [
        "# print(data.isnull().sum())"
      ],
      "metadata": {
        "id": "p2Q2LRZUr1Az"
      },
      "execution_count": null,
      "outputs": []
    },
    {
      "cell_type": "code",
      "source": [
        "# print(data['Name'].unique())\n",
        "# print(data['Opposition'].unique())"
      ],
      "metadata": {
        "id": "ffYUxwwXJpFH"
      },
      "execution_count": null,
      "outputs": []
    },
    {
      "cell_type": "code",
      "source": [
        "import matplotlib.pyplot as plt\n",
        "import seaborn as sns\n",
        "\n",
        "# Runs Distribution\n",
        "sns.histplot(data['Runs'], bins=20, kde=True)\n",
        "plt.title(\"Distribution of Runs Scored\")\n",
        "plt.show()\n"
      ],
      "metadata": {
        "colab": {
          "base_uri": "https://localhost:8080/",
          "height": 472
        },
        "id": "HBk94F-VsRlM",
        "outputId": "ac03cbfc-0792-4e92-d92b-87eb7168ab25"
      },
      "execution_count": null,
      "outputs": [
        {
          "output_type": "display_data",
          "data": {
            "text/plain": [
              "<Figure size 640x480 with 1 Axes>"
            ],
            "image/png": "[encoded data removed]"
          },
          "metadata": {}
        }
      ]
    },
    {
      "cell_type": "code",
      "source": [
        "# Define the performance score function with SR and weights for 4s and 6s\n",
        "def calculate_performance(row):\n",
        "    score = row['Runs'] + (0.5 * row['SR']) + (2 * row['4s']) + (3 * row['6s'])\n",
        "    if row['Not Out'] == 1:  # Add bonus points for Not Out\n",
        "        score += 10\n",
        "    return score\n",
        "\n",
        "# Apply the function to the dataset\n",
        "data['Performance_Score'] = data.apply(calculate_performance, axis=1)\n",
        "\n",
        "data.to_csv(\"batting_data.csv\", index=False)\n",
        "# Display the updated dataset with the new Performance_Score\n",
        "print(data[['Name', 'Runs', '4s', '6s', 'SR', 'Not Out', 'Performance_Score']])\n"
      ],
      "metadata": {
        "colab": {
          "base_uri": "https://localhost:8080/"
        },
        "id": "nTtb3Zcyu2CU",
        "outputId": "f5e3a1a8-50a4-492a-860c-c390800d4307"
      },
      "execution_count": null,
      "outputs": [
        {
          "output_type": "stream",
          "name": "stdout",
          "text": [
            "                    Name  Runs  4s  6s      SR  Not Out  Performance_Score\n",
            "0           Tanzid Hasan    60   6   3  100.00        0            131.000\n",
            "1             Litton Das     2   0   0   28.57        0             16.285\n",
            "2     Mehidy Hasan Miraz    74   6   1   73.26        0            125.630\n",
            "3           Afif Hossain    28   4   0   96.55        0             84.275\n",
            "4            Mahmudullah    50   3   3  113.63        1            131.815\n",
            "...                  ...   ...  ..  ..     ...      ...                ...\n",
            "4036       Azhar Hossain     1   0   0   14.28        0              8.140\n",
            "4037        Aminul Islam    10   1   0   38.46        0             31.230\n",
            "4038        Zahid Razzak     6   0   0   28.57        0             20.285\n",
            "4039      Athar Ali Khan    16   1   0   47.05        0             41.525\n",
            "4040       Jahangir Shah     7   0   0   50.00        1             42.000\n",
            "\n",
            "[4041 rows x 7 columns]\n"
          ]
        }
      ]
    },
    {
      "cell_type": "code",
      "source": [
        "import pandas as pd\n",
        "from sklearn.model_selection import train_test_split\n",
        "from sklearn.preprocessing import StandardScaler\n",
        "\n",
        "data = pd.read_csv(\"batting_data.csv\")\n",
        "\n",
        "# Select only relevant features for the model\n",
        "features = ['Runs', 'BF', '4s', '6s', 'SR', 'Not Out']\n",
        "target = 'Performance_Score'\n",
        "\n",
        "# Define X (features) and y (target variable)\n",
        "X = data[features]\n",
        "y = data[target]\n",
        "\n",
        "# Check for missing values\n",
        "# print(\"Missing values:\\n\", X.isnull().sum())\n",
        "\n",
        "# Fill or drop missing values (if any)\n",
        "# X = X.fillna(0)  # Replace NaN with 0\n",
        "# print(\"After handling missing values:\\n\", X.isnull().sum())\n",
        "\n",
        "# Split the data into training and test sets\n",
        "X_train, X_test, y_train, y_test = train_test_split(X, y, test_size=0.2, random_state=42)\n",
        "\n",
        "# Normalize (scale) the features using StandardScaler\n",
        "scaler = StandardScaler()\n",
        "X_train = scaler.fit_transform(X_train)\n",
        "X_test = scaler.transform(X_test)\n",
        "\n",
        "# Print the shapes of the training and test sets\n",
        "print(\"Training set shape:\", X_train.shape)\n",
        "print(\"Test set shape:\", X_test.shape)\n"
      ],
      "metadata": {
        "colab": {
          "base_uri": "https://localhost:8080/"
        },
        "id": "tRiq-HU3xNXK",
        "outputId": "8ca90179-4dee-443f-ca06-cee485283b1e"
      },
      "execution_count": null,
      "outputs": [
        {
          "output_type": "stream",
          "name": "stdout",
          "text": [
            "Training set shape: (3232, 6)\n",
            "Test set shape: (809, 6)\n"
          ]
        }
      ]
    },
    {
      "cell_type": "code",
      "source": [
        "from sklearn.linear_model import LinearRegression\n",
        "from sklearn.metrics import mean_absolute_error, r2_score\n",
        "\n",
        "# Step 1: Initialize the Linear Regression model\n",
        "model = LinearRegression()\n",
        "\n",
        "# Step 2: Train the model on the training data\n",
        "model.fit(X_train, y_train)\n",
        "\n",
        "# Step 3: Make predictions on the test data\n",
        "y_pred = model.predict(X_test)\n",
        "\n",
        "# Step 4: Evaluate the model\n",
        "# Calculate Mean Absolute Error (MAE) and R² Score\n",
        "mae = mean_absolute_error(y_test, y_pred)\n",
        "r2 = r2_score(y_test, y_pred)\n",
        "\n",
        "# Print model evaluation metrics\n",
        "print(\"Model Performance:\")\n",
        "print(\"Mean Absolute Error (MAE):\", mae)\n",
        "print(\"R² Score:\", r2)\n",
        "\n",
        "# Step 5: Display the first 10 predicted vs actual values\n",
        "results = pd.DataFrame({\n",
        "    'Actual Performance_Score': y_test,\n",
        "    'Predicted Performance_Score': y_pred\n",
        "}).head(10)\n",
        "\n",
        "print(\"\\nComparison of Actual vs Predicted Performance Scores:\")\n",
        "print(results)\n"
      ],
      "metadata": {
        "colab": {
          "base_uri": "https://localhost:8080/"
        },
        "id": "WAyhwfas0UE0",
        "outputId": "ef0e6437-ff1e-4b74-a6fa-10f0a386236c"
      },
      "execution_count": null,
      "outputs": [
        {
          "output_type": "stream",
          "name": "stdout",
          "text": [
            "Model Performance:\n",
            "Mean Absolute Error (MAE): 1.2778131800852605e-14\n",
            "R² Score: 1.0\n",
            "\n",
            "Comparison of Actual vs Predicted Performance Scores:\n",
            "      Actual Performance_Score  Predicted Performance_Score\n",
            "1157                    33.000                 3.300000e+01\n",
            "149                     24.000                 2.400000e+01\n",
            "2024                    29.075                 2.907500e+01\n",
            "3180                    53.500                 5.350000e+01\n",
            "3982                    25.830                 2.583000e+01\n",
            "2929                    40.135                 4.013500e+01\n",
            "1298                    43.525                 4.352500e+01\n",
            "3493                    57.740                 5.774000e+01\n",
            "1123                    16.500                 1.650000e+01\n",
            "1056                     0.000                 7.105427e-15\n"
          ]
        }
      ]
    },
    {
      "cell_type": "code",
      "source": [
        "# Ensure that y_pred is a DataFrame/Series and matches the shape of X_test\n",
        "y_pred = pd.Series(y_pred).reset_index(drop=True)\n",
        "\n",
        "# Combine the test data and predictions for ranking\n",
        "ranking_data = pd.DataFrame(X_test) # Convert X_test to a DataFrame\n",
        "ranking_data['Actual Performance_Score'] = y_test.reset_index(drop=True)  # Add actual scores\n",
        "ranking_data['Predicted Performance_Score'] = y_pred  # Add predicted scores\n",
        "\n",
        "# Sort batters by Predicted Performance_Score in descending order\n",
        "ranking_data_sorted = ranking_data.sort_values(by='Predicted Performance_Score', ascending=False)\n",
        "\n",
        "# Display the top 10 batters\n",
        "print(\"Top 10 Batters Based on Predicted Performance:\")\n",
        "print(ranking_data_sorted[['Predicted Performance_Score']].head(10))"
      ],
      "metadata": {
        "colab": {
          "base_uri": "https://localhost:8080/"
        },
        "id": "dCTiFnTM5cqu",
        "outputId": "db880a98-5fc4-4e3a-dc22-2f227bece811"
      },
      "execution_count": null,
      "outputs": [
        {
          "output_type": "stream",
          "name": "stdout",
          "text": [
            "Top 10 Batters Based on Predicted Performance:\n",
            "     Predicted Performance_Score\n",
            "351                      239.425\n",
            "661                      230.085\n",
            "737                      226.000\n",
            "701                      216.585\n",
            "757                      216.000\n",
            "704                      215.250\n",
            "170                      213.330\n",
            "583                      212.900\n",
            "783                      212.080\n",
            "350                      210.500\n"
          ]
        }
      ]
    },
    {
      "cell_type": "code",
      "source": [
        "import numpy as np\n",
        "from datetime import datetime\n",
        "\n",
        "# Ensure 'Date' is in datetime format\n",
        "data['Date'] = pd.to_datetime(data['Date'])\n",
        "\n",
        "# Step 1: Calculate days since the match\n",
        "now = datetime.now()\n",
        "data['Days'] = (now - data['Date']).dt.days\n",
        "\n",
        "# Step 2: Apply exponential decay for weights\n",
        "d = 0.001  # Decay rate\n",
        "data['W'] = np.exp(-d * data['Days'])\n",
        "\n",
        "# Check data with weights\n",
        "print(\"Data with Weights:\")\n",
        "print(data[['Name', 'Date', 'Days', 'W']].head())\n",
        "\n",
        "# Save the data\n",
        "data.to_csv(\"batting_data.csv\", index=False)\n"
      ],
      "metadata": {
        "colab": {
          "base_uri": "https://localhost:8080/"
        },
        "id": "ujh8x1yjLCty",
        "outputId": "54b8e50e-85eb-4486-f30c-b6491dbad476"
      },
      "execution_count": null,
      "outputs": [
        {
          "output_type": "stream",
          "name": "stdout",
          "text": [
            "Data with Weights:\n",
            "                 Name       Date  Days         W\n",
            "0        Tanzid Hasan 2024-12-08     7  0.993024\n",
            "1          Litton Das 2024-12-08     7  0.993024\n",
            "2  Mehidy Hasan Miraz 2024-12-08     7  0.993024\n",
            "3        Afif Hossain 2024-12-08     7  0.993024\n",
            "4         Mahmudullah 2024-12-08     7  0.993024\n"
          ]
        }
      ]
    },
    {
      "cell_type": "code",
      "source": [
        "# Adjust performance score using weights\n",
        "data['W_Score'] = data['Performance_Score'] * data['W']\n",
        "\n",
        "# Check adjusted performance scores\n",
        "print(\"Data with Weighted Scores:\")\n",
        "print(data[['Name', 'Date', 'Performance_Score', 'W', 'W_Score']].head())\n",
        "\n",
        "# Save the updated data\n",
        "data.to_csv(\"batting_data.csv\", index=False)\n"
      ],
      "metadata": {
        "colab": {
          "base_uri": "https://localhost:8080/"
        },
        "id": "zQKuE08zLPqe",
        "outputId": "e8631e38-81a9-493f-a178-7d0b106b79a3"
      },
      "execution_count": null,
      "outputs": [
        {
          "output_type": "stream",
          "name": "stdout",
          "text": [
            "Data with Weighted Scores:\n",
            "                 Name       Date  Performance_Score         W     W_Score\n",
            "0        Tanzid Hasan 2024-12-08            131.000  0.993024  130.086202\n",
            "1          Litton Das 2024-12-08             16.285  0.993024   16.171403\n",
            "2  Mehidy Hasan Miraz 2024-12-08            125.630  0.993024  124.753661\n",
            "3        Afif Hossain 2024-12-08             84.275  0.993024   83.687135\n",
            "4         Mahmudullah 2024-12-08            131.815  0.993024  130.895517\n"
          ]
        }
      ]
    },
    {
      "cell_type": "code",
      "source": [
        "# Group by player name, venue, and opposition\n",
        "agg = data.groupby(['Name', 'Ground', 'Opposition']).agg({\n",
        "    'W_Score': 'mean',   # Average of weighted scores\n",
        "}).reset_index()\n",
        "\n",
        "# Rename for clarity\n",
        "agg.rename(columns={'W_Score': 'Avg_W_Score'}, inplace=True)\n",
        "\n",
        "# Display the aggregated data\n",
        "print(\"Aggregated Data:\")\n",
        "print(agg.head())\n",
        "\n",
        "# Save the aggregated data for future use\n",
        "agg.to_csv(\"aggregated_data.csv\", index=False)\n"
      ],
      "metadata": {
        "colab": {
          "base_uri": "https://localhost:8080/"
        },
        "id": "bfKE4CNFLqh-",
        "outputId": "85e51838-7335-4094-d7de-118b8e2b3859"
      },
      "execution_count": null,
      "outputs": [
        {
          "output_type": "stream",
          "name": "stdout",
          "text": [
            "Aggregated Data:\n",
            "           Name      Ground    Opposition  Avg_W_Score\n",
            "0  Abdur Razzak    Auckland   New Zealand     0.196828\n",
            "1  Abdur Razzak  Basseterre   West Indies     0.914403\n",
            "2  Abdur Razzak     Belfast       Ireland     0.286921\n",
            "3  Abdur Razzak      Benoni  South Africa     0.196557\n",
            "4  Abdur Razzak  Birmingham       England     0.380139\n"
          ]
        }
      ]
    },
    {
      "cell_type": "code",
      "source": [
        "# Define the specific venue and opposition\n",
        "venue = 'Bridgetown'  # Replace with desired venue\n",
        "opposition = 'England'  # Replace with desired opposition\n",
        "\n",
        "# Filter the data\n",
        "filtered_data = agg[(agg['Ground'] == venue) & (agg['Opposition'] == opposition)]\n",
        "\n",
        "# Sort the filtered data by Avg_W_Score in descending order\n",
        "top_batters = filtered_data.sort_values(by='Avg_W_Score', ascending=False).head(10)\n",
        "\n",
        "# Display the top 10 batters\n",
        "print(f\"Top 10 Batters for {opposition} at {venue}:\")\n",
        "print(top_batters[['Name', 'Avg_W_Score']])\n"
      ],
      "metadata": {
        "colab": {
          "base_uri": "https://localhost:8080/"
        },
        "id": "48I5NmpUOGPz",
        "outputId": "d48d8a13-9447-4957-d4a9-eb238acf26da"
      },
      "execution_count": null,
      "outputs": [
        {
          "output_type": "stream",
          "name": "stdout",
          "text": [
            "Top 10 Batters for England at Bridgetown:\n",
            "                   Name  Avg_W_Score\n",
            "79          Aftab Ahmed     0.175608\n",
            "2028    Shakib Al Hasan     0.175608\n",
            "2231         Syed Rasel     0.166200\n",
            "2271        Tamim Iqbal     0.108407\n",
            "6          Abdur Razzak     0.102096\n",
            "1449    Mushfiqur Rahim     0.063995\n",
            "1978    Shahriar Nafees     0.056445\n",
            "1011   Mashrafe Mortaza     0.044082\n",
            "429      Habibul Bashar     0.023691\n",
            "1195  Mohammad Ashraful     0.014629\n"
          ]
        }
      ]
    },
    {
      "cell_type": "markdown",
      "source": [
        "**New Start**\n",
        "\n",
        "\n",
        "\n",
        "\n",
        "\n",
        "\n",
        "\n",
        "\n",
        "\n",
        "\n",
        "\n",
        "\n",
        "\n",
        "..\n",
        "\n",
        "New start"
      ],
      "metadata": {
        "id": "f0BJYhR_T331"
      }
    },
    {
      "cell_type": "code",
      "source": [
        "import pandas as pd\n",
        "from sklearn.model_selection import train_test_split\n",
        "from sklearn.preprocessing import StandardScaler\n",
        "\n",
        "# Load the data\n",
        "batting_data = pd.read_csv('batting_data.csv')\n",
        "aggregated_data = pd.read_csv('aggregated_data.csv')\n",
        "\n",
        "# Merging the datasets (assuming we want to use the merged data for training)\n",
        "merged_data = pd.merge(batting_data, aggregated_data, on=['Name', 'Ground', 'Opposition'], how='inner')\n",
        "\n",
        "# Drop any rows with missing values\n",
        "merged_data.dropna(inplace=True)\n",
        "\n",
        "# Display the first few rows to ensure the data is loaded and merged correctly\n",
        "print(merged_data.head())\n"
      ],
      "metadata": {
        "colab": {
          "base_uri": "https://localhost:8080/"
        },
        "id": "eWWDKMyqT5oW",
        "outputId": "f8bdec1d-e3d6-468c-f262-b2cc8da76e77"
      },
      "execution_count": null,
      "outputs": [
        {
          "output_type": "stream",
          "name": "stdout",
          "text": [
            "                 Name  Runs   BF  4s  6s      SR  Innings   Opposition  \\\n",
            "0        Tanzid Hasan    60   60   6   3  100.00        1  West Indies   \n",
            "1          Litton Das     2    7   0   0   28.57        1  West Indies   \n",
            "2  Mehidy Hasan Miraz    74  101   6   1   73.26        1  West Indies   \n",
            "3        Afif Hossain    28   29   4   0   96.55        1  West Indies   \n",
            "4         Mahmudullah    50   44   3   3  113.63        1  West Indies   \n",
            "\n",
            "       Ground        Date  Not Out  Performance_Score  Days         W  \\\n",
            "0  Basseterre  2024-12-08        0            131.000     7  0.993024   \n",
            "1  Basseterre  2024-12-08        0             16.285     7  0.993024   \n",
            "2  Basseterre  2024-12-08        0            125.630     7  0.993024   \n",
            "3  Basseterre  2024-12-08        0             84.275     7  0.993024   \n",
            "4  Basseterre  2024-12-08        1            131.815     7  0.993024   \n",
            "\n",
            "      W_Score  Avg_W_Score  \n",
            "0  130.086202   130.086202  \n",
            "1   16.171403    16.171403  \n",
            "2  124.753661   124.753661  \n",
            "3   83.687135    83.687135  \n",
            "4  130.895517    37.211582  \n"
          ]
        }
      ]
    },
    {
      "cell_type": "code",
      "source": [
        "# Select features (X) and target (y)\n",
        "X = merged_data[['Runs', 'BF', '4s', '6s', 'SR', 'Ground', 'Opposition']]\n",
        "y = merged_data['Avg_W_Score']\n",
        "\n",
        "# One-Hot Encode categorical variables: 'Ground' and 'Opposition'\n",
        "X = pd.get_dummies(X, columns=['Ground', 'Opposition'], drop_first=True)\n",
        "\n",
        "# Scale the features\n",
        "scaler = StandardScaler()\n",
        "X_scaled = scaler.fit_transform(X)\n",
        "\n",
        "# Display the scaled data\n",
        "# print(X_scaled[:5])  # Show first 5 rows of scaled data\n"
      ],
      "metadata": {
        "id": "205ohxhrXUgD"
      },
      "execution_count": null,
      "outputs": []
    },
    {
      "cell_type": "code",
      "source": [
        "# Split the data into training and test sets\n",
        "X_train, X_test, y_train, y_test = train_test_split(X_scaled, y, test_size=0.2, random_state=42)\n",
        "\n",
        "# Print the shape of the train and test sets\n",
        "print(f\"Training data shape: {X_train.shape}\")\n",
        "print(f\"Test data shape: {X_test.shape}\")\n"
      ],
      "metadata": {
        "colab": {
          "base_uri": "https://localhost:8080/"
        },
        "id": "lr2FZa9IUebL",
        "outputId": "3fb50e0c-4f22-4d78-cc92-c4e7a9a06dcf"
      },
      "execution_count": null,
      "outputs": [
        {
          "output_type": "stream",
          "name": "stdout",
          "text": [
            "Training data shape: (3232, 107)\n",
            "Test data shape: (809, 107)\n"
          ]
        }
      ]
    },
    {
      "cell_type": "code",
      "source": [
        "from sklearn.ensemble import RandomForestRegressor\n",
        "\n",
        "# Initialize the RandomForestRegressor model\n",
        "model = RandomForestRegressor(random_state=42)\n",
        "\n",
        "# Train the model on the training data\n",
        "model.fit(X_train, y_train)\n",
        "\n",
        "# Check the model performance on the test data\n",
        "score = model.score(X_test, y_test)\n",
        "print(f\"Model R^2 Score: {score:.4f}\")\n"
      ],
      "metadata": {
        "colab": {
          "base_uri": "https://localhost:8080/"
        },
        "id": "_WnzwKP3YsRd",
        "outputId": "11917170-97ed-43ab-8486-931ab7e13719"
      },
      "execution_count": null,
      "outputs": [
        {
          "output_type": "stream",
          "name": "stdout",
          "text": [
            "Model R^2 Score: 0.4695\n"
          ]
        }
      ]
    },
    {
      "cell_type": "code",
      "source": [
        "def get_top_10_batters(venue, opposition):\n",
        "    # Filter the data for the given venue and opposition\n",
        "    filtered_data = merged_data[(merged_data['Ground'] == venue) & (merged_data['Opposition'] == opposition)]\n",
        "\n",
        "    # Prepare the features for prediction (same as during training)\n",
        "    X_filtered = filtered_data[['Runs', 'BF', '4s', '6s', 'SR', 'Ground', 'Opposition']]\n",
        "\n",
        "    # One-Hot Encode categorical variables: 'Ground' and 'Opposition'\n",
        "    X_filtered = pd.get_dummies(X_filtered, columns=['Ground', 'Opposition'], drop_first=True)\n",
        "\n",
        "    # Align columns with the training data (match the columns in the original X_train)\n",
        "    missing_cols = set(X.columns) - set(X_filtered.columns)\n",
        "    for col in missing_cols:\n",
        "        X_filtered[col] = 0\n",
        "\n",
        "    # Ensure the column order is the same as in the training data\n",
        "    X_filtered = X_filtered[X.columns]\n",
        "\n",
        "    # Scale the filtered data using the same scaler as in training\n",
        "    X_filtered_scaled = scaler.transform(X_filtered)\n",
        "\n",
        "    # Predict the performance scores\n",
        "    y_pred = model.predict(X_filtered_scaled)\n",
        "\n",
        "    # Add the predicted scores to the filtered data\n",
        "    filtered_data['Predicted_Score'] = y_pred\n",
        "\n",
        "    # Sort the data by predicted score and get the top 10 players\n",
        "    top_10 = filtered_data.sort_values(by='Predicted_Score', ascending=False).head(10)\n",
        "\n",
        "    return top_10[['Name', 'Predicted_Score']]\n",
        "\n",
        "# Example usage: Get top 10 players for 'Basseterre' ground and 'West Indies' opposition\n",
        "top_10_batters = get_top_10_batters('Basseterre', 'West Indies')\n",
        "print(top_10_batters)\n"
      ],
      "metadata": {
        "colab": {
          "base_uri": "https://localhost:8080/"
        },
        "id": "EHT0esJkZQLw",
        "outputId": "1b079e0e-e2da-4d1f-9c13-9019f1670c7d"
      },
      "execution_count": null,
      "outputs": [
        {
          "output_type": "stream",
          "name": "stdout",
          "text": [
            "                    Name  Predicted_Score\n",
            "2     Mehidy Hasan Miraz        19.247710\n",
            "0           Tanzid Hasan         7.740582\n",
            "5              Jaker Ali         3.929510\n",
            "2121         Mahmudullah         3.652739\n",
            "875          Tamim Iqbal         2.940819\n",
            "4            Mahmudullah         2.385086\n",
            "868          Mahmudullah         2.284431\n",
            "1327     Mushfiqur Rahim         2.071894\n",
            "1335        Anamul Haque         1.815705\n",
            "1334         Tamim Iqbal         1.695779\n"
          ]
        },
        {
          "output_type": "stream",
          "name": "stderr",
          "text": [
            "<ipython-input-24-fe34d54cd98c>:14: PerformanceWarning: DataFrame is highly fragmented.  This is usually the result of calling `frame.insert` many times, which has poor performance.  Consider joining all columns at once using pd.concat(axis=1) instead. To get a de-fragmented frame, use `newframe = frame.copy()`\n",
            "  X_filtered[col] = 0\n",
            "<ipython-input-24-fe34d54cd98c>:14: PerformanceWarning: DataFrame is highly fragmented.  This is usually the result of calling `frame.insert` many times, which has poor performance.  Consider joining all columns at once using pd.concat(axis=1) instead. To get a de-fragmented frame, use `newframe = frame.copy()`\n",
            "  X_filtered[col] = 0\n",
            "<ipython-input-24-fe34d54cd98c>:14: PerformanceWarning: DataFrame is highly fragmented.  This is usually the result of calling `frame.insert` many times, which has poor performance.  Consider joining all columns at once using pd.concat(axis=1) instead. To get a de-fragmented frame, use `newframe = frame.copy()`\n",
            "  X_filtered[col] = 0\n",
            "<ipython-input-24-fe34d54cd98c>:14: PerformanceWarning: DataFrame is highly fragmented.  This is usually the result of calling `frame.insert` many times, which has poor performance.  Consider joining all columns at once using pd.concat(axis=1) instead. To get a de-fragmented frame, use `newframe = frame.copy()`\n",
            "  X_filtered[col] = 0\n",
            "<ipython-input-24-fe34d54cd98c>:26: SettingWithCopyWarning: \n",
            "A value is trying to be set on a copy of a slice from a DataFrame.\n",
            "Try using .loc[row_indexer,col_indexer] = value instead\n",
            "\n",
            "See the caveats in the documentation: https://pandas.pydata.org/pandas-docs/stable/user_guide/indexing.html#returning-a-view-versus-a-copy\n",
            "  filtered_data['Predicted_Score'] = y_pred\n"
          ]
        }
      ]
    },
    {
      "cell_type": "code",
      "source": [
        "# Sort the filtered data by predicted score in descending order\n",
        "top_10_batters = filtered_data.sort_values(by='Predicted_Score', ascending=False).head(10)\n",
        "\n",
        "# Display the top 10 batters with their predicted scores\n",
        "print(top_10_batters[['Name', 'Predicted_Score']])\n"
      ],
      "metadata": {
        "colab": {
          "base_uri": "https://localhost:8080/",
          "height": 356
        },
        "id": "6DPVjaaZceuh",
        "outputId": "a5873519-4cd7-45b9-b481-16e19162a2cb"
      },
      "execution_count": null,
      "outputs": [
        {
          "output_type": "error",
          "ename": "KeyError",
          "evalue": "'Predicted_Score'",
          "traceback": [
            "\u001b[0;31m---------------------------------------------------------------------------\u001b[0m",
            "\u001b[0;31mKeyError\u001b[0m                                  Traceback (most recent call last)",
            "\u001b[0;32m<ipython-input-25-01a460a5110a>\u001b[0m in \u001b[0;36m<cell line: 2>\u001b[0;34m()\u001b[0m\n\u001b[1;32m      1\u001b[0m \u001b[0;31m# Sort the filtered data by predicted score in descending order\u001b[0m\u001b[0;34m\u001b[0m\u001b[0;34m\u001b[0m\u001b[0m\n\u001b[0;32m----> 2\u001b[0;31m \u001b[0mtop_10_batters\u001b[0m \u001b[0;34m=\u001b[0m \u001b[0mfiltered_data\u001b[0m\u001b[0;34m.\u001b[0m\u001b[0msort_values\u001b[0m\u001b[0;34m(\u001b[0m\u001b[0mby\u001b[0m\u001b[0;34m=\u001b[0m\u001b[0;34m'Predicted_Score'\u001b[0m\u001b[0;34m,\u001b[0m \u001b[0mascending\u001b[0m\u001b[0;34m=\u001b[0m\u001b[0;32mFalse\u001b[0m\u001b[0;34m)\u001b[0m\u001b[0;34m.\u001b[0m\u001b[0mhead\u001b[0m\u001b[0;34m(\u001b[0m\u001b[0;36m10\u001b[0m\u001b[0;34m)\u001b[0m\u001b[0;34m\u001b[0m\u001b[0;34m\u001b[0m\u001b[0m\n\u001b[0m\u001b[1;32m      3\u001b[0m \u001b[0;34m\u001b[0m\u001b[0m\n\u001b[1;32m      4\u001b[0m \u001b[0;31m# Display the top 10 batters with their predicted scores\u001b[0m\u001b[0;34m\u001b[0m\u001b[0;34m\u001b[0m\u001b[0m\n\u001b[1;32m      5\u001b[0m \u001b[0mprint\u001b[0m\u001b[0;34m(\u001b[0m\u001b[0mtop_10_batters\u001b[0m\u001b[0;34m[\u001b[0m\u001b[0;34m[\u001b[0m\u001b[0;34m'Name'\u001b[0m\u001b[0;34m,\u001b[0m \u001b[0;34m'Predicted_Score'\u001b[0m\u001b[0;34m]\u001b[0m\u001b[0;34m]\u001b[0m\u001b[0;34m)\u001b[0m\u001b[0;34m\u001b[0m\u001b[0;34m\u001b[0m\u001b[0m\n",
            "\u001b[0;32m/usr/local/lib/python3.10/dist-packages/pandas/core/frame.py\u001b[0m in \u001b[0;36msort_values\u001b[0;34m(self, by, axis, ascending, inplace, kind, na_position, ignore_index, key)\u001b[0m\n\u001b[1;32m   7187\u001b[0m             \u001b[0;31m# len(by) == 1\u001b[0m\u001b[0;34m\u001b[0m\u001b[0;34m\u001b[0m\u001b[0m\n\u001b[1;32m   7188\u001b[0m \u001b[0;34m\u001b[0m\u001b[0m\n\u001b[0;32m-> 7189\u001b[0;31m             \u001b[0mk\u001b[0m \u001b[0;34m=\u001b[0m \u001b[0mself\u001b[0m\u001b[0;34m.\u001b[0m\u001b[0m_get_label_or_level_values\u001b[0m\u001b[0;34m(\u001b[0m\u001b[0mby\u001b[0m\u001b[0;34m[\u001b[0m\u001b[0;36m0\u001b[0m\u001b[0;34m]\u001b[0m\u001b[0;34m,\u001b[0m \u001b[0maxis\u001b[0m\u001b[0;34m=\u001b[0m\u001b[0maxis\u001b[0m\u001b[0;34m)\u001b[0m\u001b[0;34m\u001b[0m\u001b[0;34m\u001b[0m\u001b[0m\n\u001b[0m\u001b[1;32m   7190\u001b[0m \u001b[0;34m\u001b[0m\u001b[0m\n\u001b[1;32m   7191\u001b[0m             \u001b[0;31m# need to rewrap column in Series to apply key function\u001b[0m\u001b[0;34m\u001b[0m\u001b[0;34m\u001b[0m\u001b[0m\n",
            "\u001b[0;32m/usr/local/lib/python3.10/dist-packages/pandas/core/generic.py\u001b[0m in \u001b[0;36m_get_label_or_level_values\u001b[0;34m(self, key, axis)\u001b[0m\n\u001b[1;32m   1909\u001b[0m             \u001b[0mvalues\u001b[0m \u001b[0;34m=\u001b[0m \u001b[0mself\u001b[0m\u001b[0;34m.\u001b[0m\u001b[0maxes\u001b[0m\u001b[0;34m[\u001b[0m\u001b[0maxis\u001b[0m\u001b[0;34m]\u001b[0m\u001b[0;34m.\u001b[0m\u001b[0mget_level_values\u001b[0m\u001b[0;34m(\u001b[0m\u001b[0mkey\u001b[0m\u001b[0;34m)\u001b[0m\u001b[0;34m.\u001b[0m\u001b[0m_values\u001b[0m\u001b[0;34m\u001b[0m\u001b[0;34m\u001b[0m\u001b[0m\n\u001b[1;32m   1910\u001b[0m         \u001b[0;32melse\u001b[0m\u001b[0;34m:\u001b[0m\u001b[0;34m\u001b[0m\u001b[0;34m\u001b[0m\u001b[0m\n\u001b[0;32m-> 1911\u001b[0;31m             \u001b[0;32mraise\u001b[0m \u001b[0mKeyError\u001b[0m\u001b[0;34m(\u001b[0m\u001b[0mkey\u001b[0m\u001b[0;34m)\u001b[0m\u001b[0;34m\u001b[0m\u001b[0;34m\u001b[0m\u001b[0m\n\u001b[0m\u001b[1;32m   1912\u001b[0m \u001b[0;34m\u001b[0m\u001b[0m\n\u001b[1;32m   1913\u001b[0m         \u001b[0;31m# Check for duplicates\u001b[0m\u001b[0;34m\u001b[0m\u001b[0;34m\u001b[0m\u001b[0m\n",
            "\u001b[0;31mKeyError\u001b[0m: 'Predicted_Score'"
          ]
        }
      ]
    },
    {
      "cell_type": "code",
      "source": [
        "from sklearn.ensemble import RandomForestRegressor\n",
        "from sklearn.metrics import mean_absolute_error, mean_squared_error, r2_score\n"
      ],
      "metadata": {
        "id": "_Vhu1gLPd4te"
      },
      "execution_count": null,
      "outputs": []
    },
    {
      "cell_type": "code",
      "source": [
        "# Instantiate the RandomForestRegressor\n",
        "rf_model = RandomForestRegressor(n_estimators=100, random_state=42)\n",
        "\n",
        "# Train the model\n",
        "rf_model.fit(X_train, y_train)\n"
      ],
      "metadata": {
        "colab": {
          "base_uri": "https://localhost:8080/",
          "height": 80
        },
        "id": "icHMWfSedsiB",
        "outputId": "315059d3-79f1-4dd9-fcaf-ff7419e0edee"
      },
      "execution_count": null,
      "outputs": [
        {
          "output_type": "execute_result",
          "data": {
            "text/plain": [
              "RandomForestRegressor(random_state=42)"
            ],
            "text/html": [
              "<style>#sk-container-id-1 {\n",
              "  /* Definition of color scheme common for light and dark mode */\n",
              "  --sklearn-color-text: black;\n",
              "  --sklearn-color-line: gray;\n",
              "  /* Definition of color scheme for unfitted estimators */\n",
              "  --sklearn-color-unfitted-level-0: #fff5e6;\n",
              "  --sklearn-color-unfitted-level-1: #f6e4d2;\n",
              "  --sklearn-color-unfitted-level-2: #ffe0b3;\n",
              "  --sklearn-color-unfitted-level-3: chocolate;\n",
              "  /* Definition of color scheme for fitted estimators */\n",
              "  --sklearn-color-fitted-level-0: #f0f8ff;\n",
              "  --sklearn-color-fitted-level-1: #d4ebff;\n",
              "  --sklearn-color-fitted-level-2: #b3dbfd;\n",
              "  --sklearn-color-fitted-level-3: cornflowerblue;\n",
              "\n",
              "  /* Specific color for light theme */\n",
              "  --sklearn-color-text-on-default-background: var(--sg-text-color, var(--theme-code-foreground, var(--jp-content-font-color1, black)));\n",
              "  --sklearn-color-background: var(--sg-background-color, var(--theme-background, var(--jp-layout-color0, white)));\n",
              "  --sklearn-color-border-box: var(--sg-text-color, var(--theme-code-foreground, var(--jp-content-font-color1, black)));\n",
              "  --sklearn-color-icon: #696969;\n",
              "\n",
              "  @media (prefers-color-scheme: dark) {\n",
              "    /* Redefinition of color scheme for dark theme */\n",
              "    --sklearn-color-text-on-default-background: var(--sg-text-color, var(--theme-code-foreground, var(--jp-content-font-color1, white)));\n",
              "    --sklearn-color-background: var(--sg-background-color, var(--theme-background, var(--jp-layout-color0, #111)));\n",
              "    --sklearn-color-border-box: var(--sg-text-color, var(--theme-code-foreground, var(--jp-content-font-color1, white)));\n",
              "    --sklearn-color-icon: #878787;\n",
              "  }\n",
              "}\n",
              "\n",
              "#sk-container-id-1 {\n",
              "  color: var(--sklearn-color-text);\n",
              "}\n",
              "\n",
              "#sk-container-id-1 pre {\n",
              "  padding: 0;\n",
              "}\n",
              "\n",
              "#sk-container-id-1 input.sk-hidden--visually {\n",
              "  border: 0;\n",
              "  clip: rect(1px 1px 1px 1px);\n",
              "  clip: rect(1px, 1px, 1px, 1px);\n",
              "  height: 1px;\n",
              "  margin: -1px;\n",
              "  overflow: hidden;\n",
              "  padding: 0;\n",
              "  position: absolute;\n",
              "  width: 1px;\n",
              "}\n",
              "\n",
              "#sk-container-id-1 div.sk-dashed-wrapped {\n",
              "  border: 1px dashed var(--sklearn-color-line);\n",
              "  margin: 0 0.4em 0.5em 0.4em;\n",
              "  box-sizing: border-box;\n",
              "  padding-bottom: 0.4em;\n",
              "  background-color: var(--sklearn-color-background);\n",
              "}\n",
              "\n",
              "#sk-container-id-1 div.sk-container {\n",
              "  /* jupyter's `normalize.less` sets `[hidden] { display: none; }`\n",
              "     but bootstrap.min.css set `[hidden] { display: none !important; }`\n",
              "     so we also need the `!important` here to be able to override the\n",
              "     default hidden behavior on the sphinx rendered scikit-learn.org.\n",
              "     See: https://github.com/scikit-learn/scikit-learn/issues/21755 */\n",
              "  display: inline-block !important;\n",
              "  position: relative;\n",
              "}\n",
              "\n",
              "#sk-container-id-1 div.sk-text-repr-fallback {\n",
              "  display: none;\n",
              "}\n",
              "\n",
              "div.sk-parallel-item,\n",
              "div.sk-serial,\n",
              "div.sk-item {\n",
              "  /* draw centered vertical line to link estimators */\n",
              "  background-image: linear-gradient(var(--sklearn-color-text-on-default-background), var(--sklearn-color-text-on-default-background));\n",
              "  background-size: 2px 100%;\n",
              "  background-repeat: no-repeat;\n",
              "  background-position: center center;\n",
              "}\n",
              "\n",
              "/* Parallel-specific style estimator block */\n",
              "\n",
              "#sk-container-id-1 div.sk-parallel-item::after {\n",
              "  content: \"\";\n",
              "  width: 100%;\n",
              "  border-bottom: 2px solid var(--sklearn-color-text-on-default-background);\n",
              "  flex-grow: 1;\n",
              "}\n",
              "\n",
              "#sk-container-id-1 div.sk-parallel {\n",
              "  display: flex;\n",
              "  align-items: stretch;\n",
              "  justify-content: center;\n",
              "  background-color: var(--sklearn-color-background);\n",
              "  position: relative;\n",
              "}\n",
              "\n",
              "#sk-container-id-1 div.sk-parallel-item {\n",
              "  display: flex;\n",
              "  flex-direction: column;\n",
              "}\n",
              "\n",
              "#sk-container-id-1 div.sk-parallel-item:first-child::after {\n",
              "  align-self: flex-end;\n",
              "  width: 50%;\n",
              "}\n",
              "\n",
              "#sk-container-id-1 div.sk-parallel-item:last-child::after {\n",
              "  align-self: flex-start;\n",
              "  width: 50%;\n",
              "}\n",
              "\n",
              "#sk-container-id-1 div.sk-parallel-item:only-child::after {\n",
              "  width: 0;\n",
              "}\n",
              "\n",
              "/* Serial-specific style estimator block */\n",
              "\n",
              "#sk-container-id-1 div.sk-serial {\n",
              "  display: flex;\n",
              "  flex-direction: column;\n",
              "  align-items: center;\n",
              "  background-color: var(--sklearn-color-background);\n",
              "  padding-right: 1em;\n",
              "  padding-left: 1em;\n",
              "}\n",
              "\n",
              "\n",
              "/* Toggleable style: style used for estimator/Pipeline/ColumnTransformer box that is\n",
              "clickable and can be expanded/collapsed.\n",
              "- Pipeline and ColumnTransformer use this feature and define the default style\n",
              "- Estimators will overwrite some part of the style using the `sk-estimator` class\n",
              "*/\n",
              "\n",
              "/* Pipeline and ColumnTransformer style (default) */\n",
              "\n",
              "#sk-container-id-1 div.sk-toggleable {\n",
              "  /* Default theme specific background. It is overwritten whether we have a\n",
              "  specific estimator or a Pipeline/ColumnTransformer */\n",
              "  background-color: var(--sklearn-color-background);\n",
              "}\n",
              "\n",
              "/* Toggleable label */\n",
              "#sk-container-id-1 label.sk-toggleable__label {\n",
              "  cursor: pointer;\n",
              "  display: block;\n",
              "  width: 100%;\n",
              "  margin-bottom: 0;\n",
              "  padding: 0.5em;\n",
              "  box-sizing: border-box;\n",
              "  text-align: center;\n",
              "}\n",
              "\n",
              "#sk-container-id-1 label.sk-toggleable__label-arrow:before {\n",
              "  /* Arrow on the left of the label */\n",
              "  content: \"▸\";\n",
              "  float: left;\n",
              "  margin-right: 0.25em;\n",
              "  color: var(--sklearn-color-icon);\n",
              "}\n",
              "\n",
              "#sk-container-id-1 label.sk-toggleable__label-arrow:hover:before {\n",
              "  color: var(--sklearn-color-text);\n",
              "}\n",
              "\n",
              "/* Toggleable content - dropdown */\n",
              "\n",
              "#sk-container-id-1 div.sk-toggleable__content {\n",
              "  max-height: 0;\n",
              "  max-width: 0;\n",
              "  overflow: hidden;\n",
              "  text-align: left;\n",
              "  /* unfitted */\n",
              "  background-color: var(--sklearn-color-unfitted-level-0);\n",
              "}\n",
              "\n",
              "#sk-container-id-1 div.sk-toggleable__content.fitted {\n",
              "  /* fitted */\n",
              "  background-color: var(--sklearn-color-fitted-level-0);\n",
              "}\n",
              "\n",
              "#sk-container-id-1 div.sk-toggleable__content pre {\n",
              "  margin: 0.2em;\n",
              "  border-radius: 0.25em;\n",
              "  color: var(--sklearn-color-text);\n",
              "  /* unfitted */\n",
              "  background-color: var(--sklearn-color-unfitted-level-0);\n",
              "}\n",
              "\n",
              "#sk-container-id-1 div.sk-toggleable__content.fitted pre {\n",
              "  /* unfitted */\n",
              "  background-color: var(--sklearn-color-fitted-level-0);\n",
              "}\n",
              "\n",
              "#sk-container-id-1 input.sk-toggleable__control:checked~div.sk-toggleable__content {\n",
              "  /* Expand drop-down */\n",
              "  max-height: 200px;\n",
              "  max-width: 100%;\n",
              "  overflow: auto;\n",
              "}\n",
              "\n",
              "#sk-container-id-1 input.sk-toggleable__control:checked~label.sk-toggleable__label-arrow:before {\n",
              "  content: \"▾\";\n",
              "}\n",
              "\n",
              "/* Pipeline/ColumnTransformer-specific style */\n",
              "\n",
              "#sk-container-id-1 div.sk-label input.sk-toggleable__control:checked~label.sk-toggleable__label {\n",
              "  color: var(--sklearn-color-text);\n",
              "  background-color: var(--sklearn-color-unfitted-level-2);\n",
              "}\n",
              "\n",
              "#sk-container-id-1 div.sk-label.fitted input.sk-toggleable__control:checked~label.sk-toggleable__label {\n",
              "  background-color: var(--sklearn-color-fitted-level-2);\n",
              "}\n",
              "\n",
              "/* Estimator-specific style */\n",
              "\n",
              "/* Colorize estimator box */\n",
              "#sk-container-id-1 div.sk-estimator input.sk-toggleable__control:checked~label.sk-toggleable__label {\n",
              "  /* unfitted */\n",
              "  background-color: var(--sklearn-color-unfitted-level-2);\n",
              "}\n",
              "\n",
              "#sk-container-id-1 div.sk-estimator.fitted input.sk-toggleable__control:checked~label.sk-toggleable__label {\n",
              "  /* fitted */\n",
              "  background-color: var(--sklearn-color-fitted-level-2);\n",
              "}\n",
              "\n",
              "#sk-container-id-1 div.sk-label label.sk-toggleable__label,\n",
              "#sk-container-id-1 div.sk-label label {\n",
              "  /* The background is the default theme color */\n",
              "  color: var(--sklearn-color-text-on-default-background);\n",
              "}\n",
              "\n",
              "/* On hover, darken the color of the background */\n",
              "#sk-container-id-1 div.sk-label:hover label.sk-toggleable__label {\n",
              "  color: var(--sklearn-color-text);\n",
              "  background-color: var(--sklearn-color-unfitted-level-2);\n",
              "}\n",
              "\n",
              "/* Label box, darken color on hover, fitted */\n",
              "#sk-container-id-1 div.sk-label.fitted:hover label.sk-toggleable__label.fitted {\n",
              "  color: var(--sklearn-color-text);\n",
              "  background-color: var(--sklearn-color-fitted-level-2);\n",
              "}\n",
              "\n",
              "/* Estimator label */\n",
              "\n",
              "#sk-container-id-1 div.sk-label label {\n",
              "  font-family: monospace;\n",
              "  font-weight: bold;\n",
              "  display: inline-block;\n",
              "  line-height: 1.2em;\n",
              "}\n",
              "\n",
              "#sk-container-id-1 div.sk-label-container {\n",
              "  text-align: center;\n",
              "}\n",
              "\n",
              "/* Estimator-specific */\n",
              "#sk-container-id-1 div.sk-estimator {\n",
              "  font-family: monospace;\n",
              "  border: 1px dotted var(--sklearn-color-border-box);\n",
              "  border-radius: 0.25em;\n",
              "  box-sizing: border-box;\n",
              "  margin-bottom: 0.5em;\n",
              "  /* unfitted */\n",
              "  background-color: var(--sklearn-color-unfitted-level-0);\n",
              "}\n",
              "\n",
              "#sk-container-id-1 div.sk-estimator.fitted {\n",
              "  /* fitted */\n",
              "  background-color: var(--sklearn-color-fitted-level-0);\n",
              "}\n",
              "\n",
              "/* on hover */\n",
              "#sk-container-id-1 div.sk-estimator:hover {\n",
              "  /* unfitted */\n",
              "  background-color: var(--sklearn-color-unfitted-level-2);\n",
              "}\n",
              "\n",
              "#sk-container-id-1 div.sk-estimator.fitted:hover {\n",
              "  /* fitted */\n",
              "  background-color: var(--sklearn-color-fitted-level-2);\n",
              "}\n",
              "\n",
              "/* Specification for estimator info (e.g. \"i\" and \"?\") */\n",
              "\n",
              "/* Common style for \"i\" and \"?\" */\n",
              "\n",
              ".sk-estimator-doc-link,\n",
              "a:link.sk-estimator-doc-link,\n",
              "a:visited.sk-estimator-doc-link {\n",
              "  float: right;\n",
              "  font-size: smaller;\n",
              "  line-height: 1em;\n",
              "  font-family: monospace;\n",
              "  background-color: var(--sklearn-color-background);\n",
              "  border-radius: 1em;\n",
              "  height: 1em;\n",
              "  width: 1em;\n",
              "  text-decoration: none !important;\n",
              "  margin-left: 1ex;\n",
              "  /* unfitted */\n",
              "  border: var(--sklearn-color-unfitted-level-1) 1pt solid;\n",
              "  color: var(--sklearn-color-unfitted-level-1);\n",
              "}\n",
              "\n",
              ".sk-estimator-doc-link.fitted,\n",
              "a:link.sk-estimator-doc-link.fitted,\n",
              "a:visited.sk-estimator-doc-link.fitted {\n",
              "  /* fitted */\n",
              "  border: var(--sklearn-color-fitted-level-1) 1pt solid;\n",
              "  color: var(--sklearn-color-fitted-level-1);\n",
              "}\n",
              "\n",
              "/* On hover */\n",
              "div.sk-estimator:hover .sk-estimator-doc-link:hover,\n",
              ".sk-estimator-doc-link:hover,\n",
              "div.sk-label-container:hover .sk-estimator-doc-link:hover,\n",
              ".sk-estimator-doc-link:hover {\n",
              "  /* unfitted */\n",
              "  background-color: var(--sklearn-color-unfitted-level-3);\n",
              "  color: var(--sklearn-color-background);\n",
              "  text-decoration: none;\n",
              "}\n",
              "\n",
              "div.sk-estimator.fitted:hover .sk-estimator-doc-link.fitted:hover,\n",
              ".sk-estimator-doc-link.fitted:hover,\n",
              "div.sk-label-container:hover .sk-estimator-doc-link.fitted:hover,\n",
              ".sk-estimator-doc-link.fitted:hover {\n",
              "  /* fitted */\n",
              "  background-color: var(--sklearn-color-fitted-level-3);\n",
              "  color: var(--sklearn-color-background);\n",
              "  text-decoration: none;\n",
              "}\n",
              "\n",
              "/* Span, style for the box shown on hovering the info icon */\n",
              ".sk-estimator-doc-link span {\n",
              "  display: none;\n",
              "  z-index: 9999;\n",
              "  position: relative;\n",
              "  font-weight: normal;\n",
              "  right: .2ex;\n",
              "  padding: .5ex;\n",
              "  margin: .5ex;\n",
              "  width: min-content;\n",
              "  min-width: 20ex;\n",
              "  max-width: 50ex;\n",
              "  color: var(--sklearn-color-text);\n",
              "  box-shadow: 2pt 2pt 4pt #999;\n",
              "  /* unfitted */\n",
              "  background: var(--sklearn-color-unfitted-level-0);\n",
              "  border: .5pt solid var(--sklearn-color-unfitted-level-3);\n",
              "}\n",
              "\n",
              ".sk-estimator-doc-link.fitted span {\n",
              "  /* fitted */\n",
              "  background: var(--sklearn-color-fitted-level-0);\n",
              "  border: var(--sklearn-color-fitted-level-3);\n",
              "}\n",
              "\n",
              ".sk-estimator-doc-link:hover span {\n",
              "  display: block;\n",
              "}\n",
              "\n",
              "/* \"?\"-specific style due to the `<a>` HTML tag */\n",
              "\n",
              "#sk-container-id-1 a.estimator_doc_link {\n",
              "  float: right;\n",
              "  font-size: 1rem;\n",
              "  line-height: 1em;\n",
              "  font-family: monospace;\n",
              "  background-color: var(--sklearn-color-background);\n",
              "  border-radius: 1rem;\n",
              "  height: 1rem;\n",
              "  width: 1rem;\n",
              "  text-decoration: none;\n",
              "  /* unfitted */\n",
              "  color: var(--sklearn-color-unfitted-level-1);\n",
              "  border: var(--sklearn-color-unfitted-level-1) 1pt solid;\n",
              "}\n",
              "\n",
              "#sk-container-id-1 a.estimator_doc_link.fitted {\n",
              "  /* fitted */\n",
              "  border: var(--sklearn-color-fitted-level-1) 1pt solid;\n",
              "  color: var(--sklearn-color-fitted-level-1);\n",
              "}\n",
              "\n",
              "/* On hover */\n",
              "#sk-container-id-1 a.estimator_doc_link:hover {\n",
              "  /* unfitted */\n",
              "  background-color: var(--sklearn-color-unfitted-level-3);\n",
              "  color: var(--sklearn-color-background);\n",
              "  text-decoration: none;\n",
              "}\n",
              "\n",
              "#sk-container-id-1 a.estimator_doc_link.fitted:hover {\n",
              "  /* fitted */\n",
              "  background-color: var(--sklearn-color-fitted-level-3);\n",
              "}\n",
              "</style><div id=\"sk-container-id-1\" class=\"sk-top-container\"><div class=\"sk-text-repr-fallback\"><pre>RandomForestRegressor(random_state=42)</pre><b>In a Jupyter environment, please rerun this cell to show the HTML representation or trust the notebook. <br />On GitHub, the HTML representation is unable to render, please try loading this page with nbviewer.org.</b></div><div class=\"sk-container\" hidden><div class=\"sk-item\"><div class=\"sk-estimator fitted sk-toggleable\"><input class=\"sk-toggleable__control sk-hidden--visually\" id=\"sk-estimator-id-1\" type=\"checkbox\" checked><label for=\"sk-estimator-id-1\" class=\"sk-toggleable__label fitted sk-toggleable__label-arrow fitted\">&nbsp;&nbsp;RandomForestRegressor<a class=\"sk-estimator-doc-link fitted\" rel=\"noreferrer\" target=\"_blank\" href=\"https://scikit-learn.org/1.5/modules/generated/sklearn.ensemble.RandomForestRegressor.html\">?<span>Documentation for RandomForestRegressor</span></a><span class=\"sk-estimator-doc-link fitted\">i<span>Fitted</span></span></label><div class=\"sk-toggleable__content fitted\"><pre>RandomForestRegressor(random_state=42)</pre></div> </div></div></div></div>"
            ]
          },
          "metadata": {},
          "execution_count": 27
        }
      ]
    },
    {
      "cell_type": "code",
      "source": [
        "# Predict on the test set\n",
        "y_pred = rf_model.predict(X_test)\n",
        "\n",
        "# Evaluate the model\n",
        "mae = mean_absolute_error(y_test, y_pred)\n",
        "mse = mean_squared_error(y_test, y_pred)\n",
        "r2 = r2_score(y_test, y_pred)\n",
        "\n",
        "print(f'Mean Absolute Error: {mae}')\n",
        "print(f'Mean Squared Error: {mse}')\n",
        "print(f'R-squared: {r2}')\n"
      ],
      "metadata": {
        "colab": {
          "base_uri": "https://localhost:8080/"
        },
        "id": "CY5bIIa1d97p",
        "outputId": "3bfdebb1-644f-4ca2-a36c-320fc554fd13"
      },
      "execution_count": null,
      "outputs": [
        {
          "output_type": "stream",
          "name": "stdout",
          "text": [
            "Mean Absolute Error: 5.685115751092509\n",
            "Mean Squared Error: 144.42129221060745\n",
            "R-squared: 0.469527350011278\n"
          ]
        }
      ]
    },
    {
      "cell_type": "code",
      "source": [
        "from sklearn.preprocessing import StandardScaler\n",
        "from sklearn.ensemble import RandomForestRegressor\n",
        "\n",
        "# Assuming 'rf_model' is your trained model\n",
        "# And 'scaler' is your StandardScaler that was fitted during the training phase\n",
        "\n",
        "# Example input for opposition and venue\n",
        "opposition_input = 'West Indies'\n",
        "venue_input = 'Basseterre'\n",
        "\n",
        "# Filter the dataset based on opposition and venue\n",
        "filtered_data = data[(data['Opposition'] == opposition_input) & (data['Ground'] == venue_input)]\n",
        "\n",
        "# Select the same features used during training, including 'Ground' and 'Opposition'\n",
        "features = ['Runs', 'BF', '4s', '6s', 'SR', 'Ground', 'Opposition']  # Include Ground and Opposition\n",
        "X_filtered = filtered_data[features]\n",
        "\n",
        "# One-Hot Encode categorical variables: 'Ground' and 'Opposition'\n",
        "X_filtered = pd.get_dummies(X_filtered, columns=['Ground', 'Opposition'], drop_first=True)\n",
        "\n",
        "# Align columns with the training data (match the columns in the original X_train)\n",
        "# Get missing columns from the training data\n",
        "missing_cols = set(X.columns) - set(X_filtered.columns)\n",
        "# Add missing columns to X_filtered with 0 values\n",
        "for col in missing_cols:\n",
        "    X_filtered[col] = 0\n",
        "# Ensure the column order is the same as in the training data\n",
        "X_filtered = X_filtered[X.columns]\n",
        "\n",
        "# Scale the filtered data using the same scaler as in training\n",
        "X_filtered_scaled = scaler.transform(X_filtered)\n",
        "\n",
        "# Predict the scores using the trained model\n",
        "predicted_scores = rf_model.predict(X_filtered_scaled)\n",
        "\n",
        "# Add the predicted scores to the filtered data\n",
        "filtered_data['Predicted_Score'] = predicted_scores\n",
        "\n",
        "# Sort the filtered data by predicted score\n",
        "top_10_batters = filtered_data.sort_values(by='Predicted_Score', ascending=False).head(10)\n",
        "\n",
        "# Display the top 10 batters with their predicted scores\n",
        "print(top_10_batters[['Name', 'Predicted_Score']])"
      ],
      "metadata": {
        "colab": {
          "base_uri": "https://localhost:8080/"
        },
        "id": "G4zoLW_TeE6V",
        "outputId": "14f3e079-e29c-422b-f068-ee869e0c6096"
      },
      "execution_count": null,
      "outputs": [
        {
          "output_type": "stream",
          "name": "stdout",
          "text": [
            "                    Name  Predicted_Score\n",
            "2     Mehidy Hasan Miraz        19.247710\n",
            "0           Tanzid Hasan         7.740582\n",
            "5              Jaker Ali         3.929510\n",
            "2121         Mahmudullah         3.652739\n",
            "875          Tamim Iqbal         2.940819\n",
            "4            Mahmudullah         2.385086\n",
            "868          Mahmudullah         2.284431\n",
            "1327     Mushfiqur Rahim         2.071894\n",
            "1335        Anamul Haque         1.815705\n",
            "1334         Tamim Iqbal         1.695779\n"
          ]
        },
        {
          "output_type": "stream",
          "name": "stderr",
          "text": [
            "<ipython-input-29-1f68dc5ae121>:26: PerformanceWarning: DataFrame is highly fragmented.  This is usually the result of calling `frame.insert` many times, which has poor performance.  Consider joining all columns at once using pd.concat(axis=1) instead. To get a de-fragmented frame, use `newframe = frame.copy()`\n",
            "  X_filtered[col] = 0\n",
            "<ipython-input-29-1f68dc5ae121>:26: PerformanceWarning: DataFrame is highly fragmented.  This is usually the result of calling `frame.insert` many times, which has poor performance.  Consider joining all columns at once using pd.concat(axis=1) instead. To get a de-fragmented frame, use `newframe = frame.copy()`\n",
            "  X_filtered[col] = 0\n",
            "<ipython-input-29-1f68dc5ae121>:26: PerformanceWarning: DataFrame is highly fragmented.  This is usually the result of calling `frame.insert` many times, which has poor performance.  Consider joining all columns at once using pd.concat(axis=1) instead. To get a de-fragmented frame, use `newframe = frame.copy()`\n",
            "  X_filtered[col] = 0\n",
            "<ipython-input-29-1f68dc5ae121>:26: PerformanceWarning: DataFrame is highly fragmented.  This is usually the result of calling `frame.insert` many times, which has poor performance.  Consider joining all columns at once using pd.concat(axis=1) instead. To get a de-fragmented frame, use `newframe = frame.copy()`\n",
            "  X_filtered[col] = 0\n",
            "<ipython-input-29-1f68dc5ae121>:37: SettingWithCopyWarning: \n",
            "A value is trying to be set on a copy of a slice from a DataFrame.\n",
            "Try using .loc[row_indexer,col_indexer] = value instead\n",
            "\n",
            "See the caveats in the documentation: https://pandas.pydata.org/pandas-docs/stable/user_guide/indexing.html#returning-a-view-versus-a-copy\n",
            "  filtered_data['Predicted_Score'] = predicted_scores\n"
          ]
        }
      ]
    },
    {
      "cell_type": "code",
      "source": [
        "from sklearn.ensemble import GradientBoostingRegressor\n",
        "# Before fitting the GradientBoostingRegressor:\n",
        "from sklearn.preprocessing import StandardScaler\n",
        "scaler = StandardScaler()\n",
        "X_train_scaled = scaler.fit_transform(X_train) # Assuming X_train is already defined\n",
        "# Step 1: Initialize the new model\n",
        "gb_model = GradientBoostingRegressor(n_estimators=100, learning_rate=0.1, max_depth=3, random_state=42)\n",
        "\n",
        "# Step 2: Train the new model on your training data\n",
        "gb_model.fit(X_train_scaled, y_train)\n",
        "\n",
        "# Step 3: Use the new model to make predictions on filtered data (after scaling)\n",
        "y_pred_gb = gb_model.predict(X_filtered_scaled)\n",
        "\n",
        "# Step 4: Add the predictions to the filtered data\n",
        "filtered_data['Predicted_Score_GB'] = y_pred_gb\n",
        "\n",
        "# Step 5: Sort the filtered data by predicted score (from the new model)\n",
        "top_10_batters_gb = filtered_data.sort_values(by='Predicted_Score_GB', ascending=False).head(10)\n",
        "\n",
        "# Step 6: Display the top 10 batters with their predicted scores\n",
        "print(top_10_batters_gb[['Name', 'Predicted_Score_GB']])\n"
      ],
      "metadata": {
        "colab": {
          "base_uri": "https://localhost:8080/"
        },
        "id": "NK3d_Q1dfdj7",
        "outputId": "ac146556-792a-4146-8958-716607b5c93b"
      },
      "execution_count": null,
      "outputs": [
        {
          "output_type": "stream",
          "name": "stdout",
          "text": [
            "                    Name  Predicted_Score_GB\n",
            "0           Tanzid Hasan           18.526118\n",
            "875          Tamim Iqbal           17.487304\n",
            "4            Mahmudullah           16.457980\n",
            "5              Jaker Ali           16.457980\n",
            "868          Mahmudullah           16.457980\n",
            "2     Mehidy Hasan Miraz           10.319233\n",
            "1334         Tamim Iqbal            7.851934\n",
            "871     Mashrafe Mortaza            7.513130\n",
            "2122         Naeem Islam            7.513130\n",
            "2124         Tamim Iqbal            7.513130\n"
          ]
        },
        {
          "output_type": "stream",
          "name": "stderr",
          "text": [
            "<ipython-input-30-d654bf3ca473>:16: SettingWithCopyWarning: \n",
            "A value is trying to be set on a copy of a slice from a DataFrame.\n",
            "Try using .loc[row_indexer,col_indexer] = value instead\n",
            "\n",
            "See the caveats in the documentation: https://pandas.pydata.org/pandas-docs/stable/user_guide/indexing.html#returning-a-view-versus-a-copy\n",
            "  filtered_data['Predicted_Score_GB'] = y_pred_gb\n"
          ]
        }
      ]
    },
    {
      "cell_type": "code",
      "source": [
        "from sklearn.ensemble import GradientBoostingRegressor\n",
        "from sklearn.preprocessing import StandardScaler\n",
        "from sklearn.metrics import mean_absolute_error, mean_squared_error, r2_score\n",
        "import numpy as np\n",
        "\n",
        "# Assuming X_train and X_test are already defined\n",
        "# Before fitting the GradientBoostingRegressor, scale both X_train and X_test:\n",
        "scaler = StandardScaler()\n",
        "X_train_scaled = scaler.fit_transform(X_train)\n",
        "X_test_scaled = scaler.transform(X_test) # Scale the test data using the same scaler\n",
        "\n",
        "# Step 1: Initialize the new model\n",
        "gb_model = GradientBoostingRegressor(n_estimators=100, learning_rate=0.1, max_depth=3, random_state=42)\n",
        "\n",
        "# Step 2: Train the new model on your training data\n",
        "gb_model.fit(X_train_scaled, y_train)\n",
        "\n",
        "# ... (rest of your code) ...\n",
        "\n",
        "# Step 1: Calculate the predicted values using the trained model\n",
        "y_pred_gb = gb_model.predict(X_test_scaled)  # Predicting with the test data\n",
        "# Step 2: Calculate the errors\n",
        "\n",
        "# MAE (Mean Absolute Error)\n",
        "mae = mean_absolute_error(y_test, y_pred_gb)\n",
        "print(f'Mean Absolute Error (MAE): {mae}')\n",
        "\n",
        "# MSE (Mean Squared Error)\n",
        "mse = mean_squared_error(y_test, y_pred_gb)\n",
        "print(f'Mean Squared Error (MSE): {mse}')\n",
        "\n",
        "# RMSE (Root Mean Squared Error)\n",
        "rmse = np.sqrt(mse)\n",
        "print(f'Root Mean Squared Error (RMSE): {rmse}')\n",
        "\n",
        "# R-squared (R²)\n",
        "r2 = r2_score(y_test, y_pred_gb)\n",
        "print(f'R-squared (R²): {r2}')\n"
      ],
      "metadata": {
        "colab": {
          "base_uri": "https://localhost:8080/"
        },
        "id": "jHj1OiL8f8cN",
        "outputId": "53c62506-5550-4196-cb51-31b047d3844b"
      },
      "execution_count": null,
      "outputs": [
        {
          "output_type": "stream",
          "name": "stdout",
          "text": [
            "Mean Absolute Error (MAE): 6.420534057138888\n",
            "Mean Squared Error (MSE): 146.83154502304703\n",
            "Root Mean Squared Error (RMSE): 12.11740669545456\n",
            "R-squared (R²): 0.4606742704065543\n"
          ]
        }
      ]
    }
  ]
}