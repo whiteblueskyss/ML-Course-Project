{
  "nbformat": 4,
  "nbformat_minor": 0,
  "metadata": {
    "colab": {
      "provenance": []
    },
    "kernelspec": {
      "name": "python3",
      "display_name": "Python 3"
    },
    "language_info": {
      "name": "python"
    }
  },
  "cells": [
    {
      "cell_type": "code",
      "execution_count": null,
      "metadata": {
        "id": "JxJhmUuRqtk0"
      },
      "outputs": [],
      "source": [
        "import requests\n",
        "from bs4 import BeautifulSoup\n",
        "import pandas as pd"
      ]
    },
    {
      "cell_type": "code",
      "source": [
        "test = []\n",
        "for i in range(1,65):\n",
        "\n",
        "  url = f\"https://stats.espncricinfo.com/ci/engine/stats/index.html?class=1;orderby=start;orderbyad=reverse;page={i};team=25;template=results;type=batting;view=innings\"\n",
        "\n",
        "  headers = {\n",
        "      \"User-Agent\": \"Mozilla/5.0 (Windows NT 10.0; Win64; x64) AppleWebKit/537.36 (KHTML, like Gecko) Chrome/124.0.0.0 Safari/537.36\"\n",
        "  }\n",
        "\n",
        "  response = requests.get(url, headers=headers)\n",
        "  response = response.content\n",
        "  soup = BeautifulSoup(response, 'html.parser')\n",
        "  tbody = soup.find(\"tbody\")\n",
        "  tr = tbody.find_all('tr', class_ = 'data1')\n",
        "\n",
        "  for td in tr:\n",
        "    datas = td.find_all('td')\n",
        "    name  = datas[0].text\n",
        "    runs  = datas[1].text\n",
        "    mins = datas[2].text\n",
        "    bf = datas[3].text\n",
        "    fours = datas[4].text\n",
        "    sixes = datas[5].text\n",
        "    sr = datas[6].text\n",
        "    innings = datas[7].text\n",
        "    opposition = datas[9].text\n",
        "    ground = datas[10].text\n",
        "    date = datas[11].find('b').text\n",
        "    test.append([name,runs,mins,bf,fours,sixes,sr,innings,opposition,ground,date])\n",
        "\n",
        "\n",
        "df = pd.DataFrame(test, columns=['Name','Runs','Mins','BF','4s','6s','SR','Innings','Opposition','Ground','Date'])\n",
        "df.to_csv('testbatting.csv')\n"
      ],
      "metadata": {
        "id": "7VFRQbfksHI-"
      },
      "execution_count": null,
      "outputs": []
    },
    {
      "cell_type": "code",
      "source": [
        "odi = []\n",
        "for i in range(1,98):\n",
        "\n",
        "  url = f\"https://stats.espncricinfo.com/ci/engine/stats/index.html?class=2;orderby=start;orderbyad=reverse;page={i};team=25;template=results;type=batting;view=innings\"\n",
        "\n",
        "  headers = {\n",
        "      \"User-Agent\": \"Mozilla/5.0 (Windows NT 10.0; Win64; x64) AppleWebKit/537.36 (KHTML, like Gecko) Chrome/124.0.0.0 Safari/537.36\"\n",
        "  }\n",
        "\n",
        "  response = requests.get(url, headers=headers)\n",
        "  response = response.content\n",
        "  soup = BeautifulSoup(response, 'html.parser')\n",
        "  tbody = soup.find(\"tbody\")\n",
        "  tr = tbody.find_all('tr', class_ = 'data1')\n",
        "\n",
        "  for td in tr:\n",
        "    datas = td.find_all('td')\n",
        "    name  = datas[0].text\n",
        "    runs  = datas[1].text\n",
        "    mins = datas[2].text\n",
        "    bf = datas[3].text\n",
        "    fours = datas[4].text\n",
        "    sixes = datas[5].text\n",
        "    sr = datas[6].text\n",
        "    innings = datas[7].text\n",
        "    opposition = datas[9].text\n",
        "    ground = datas[10].text\n",
        "    date = datas[11].find('b').text\n",
        "    odi.append([name,runs,mins,bf,fours,sixes,sr,innings,opposition,ground,date])\n",
        "\n",
        "\n",
        "df = pd.DataFrame(odi, columns=['Name','Runs','Mins','BF','4s','6s','SR','Innings','Opposition','Ground','Date'])\n",
        "df.to_csv('odibatting.csv')\n"
      ],
      "metadata": {
        "id": "6rJ36xCxFpo4"
      },
      "execution_count": null,
      "outputs": []
    },
    {
      "cell_type": "code",
      "source": [
        "t20 = []\n",
        "for i in range(1,40):\n",
        "\n",
        "  url = f\"https://stats.espncricinfo.com/ci/engine/stats/index.html?class=3;orderby=start;orderbyad=reverse;page={i};team=25;template=results;type=batting;view=innings\"\n",
        "\n",
        "  headers = {\n",
        "      \"User-Agent\": \"Mozilla/5.0 (Windows NT 10.0; Win64; x64) AppleWebKit/537.36 (KHTML, like Gecko) Chrome/124.0.0.0 Safari/537.36\"\n",
        "  }\n",
        "\n",
        "  response = requests.get(url, headers=headers)\n",
        "  response = response.content\n",
        "  soup = BeautifulSoup(response, 'html.parser')\n",
        "  tbody = soup.find(\"tbody\")\n",
        "  tr = tbody.find_all('tr', class_ = 'data1')\n",
        "\n",
        "  for td in tr:\n",
        "    datas = td.find_all('td')\n",
        "    name  = datas[0].text\n",
        "    runs  = datas[1].text\n",
        "    mins = datas[2].text\n",
        "    bf = datas[3].text\n",
        "    fours = datas[4].text\n",
        "    sixes = datas[5].text\n",
        "    sr = datas[6].text\n",
        "    innings = datas[7].text\n",
        "    opposition = datas[9].text\n",
        "    ground = datas[10].text\n",
        "    date = datas[11].find('b').text\n",
        "    t20.append([name,runs,mins,bf,fours,sixes,sr,innings,opposition,ground,date])\n",
        "    # print(name,runs,mins,bf,fours,sixes,sr,innings,opposition,ground,date)\n",
        "\n",
        "df = pd.DataFrame(t20, columns=['Name','Runs','Mins','BF','4s','6s','SR','Innings','Opposition','Ground','Date'])\n",
        "df.to_csv('t20batting.csv')\n"
      ],
      "metadata": {
        "id": "9E9kSXP-HDMo"
      },
      "execution_count": null,
      "outputs": []
    }
  ]
}