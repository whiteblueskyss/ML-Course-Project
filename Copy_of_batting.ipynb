{
  "nbformat": 4,
  "nbformat_minor": 0,
  "metadata": {
    "colab": {
      "provenance": []
    },
    "kernelspec": {
      "name": "python3",
      "display_name": "Python 3"
    },
    "language_info": {
      "name": "python"
    }
  },
  "cells": [
    {
      "cell_type": "code",
      "execution_count": null,
      "metadata": {
        "id": "3lFtgFwwGRlr"
      },
      "outputs": [],
      "source": [
        "import pandas as pd\n",
        "file_path = 'CleanOdiBatting.csv'\n",
        "data = pd.read_csv(file_path)"
      ]
    },
    {
      "cell_type": "code",
      "source": [
        "import matplotlib.pyplot as plt\n",
        "import seaborn as sns\n",
        "\n",
        "sns.histplot(data['Runs'], bins=20, kde=True)\n",
        "plt.title(\"Distribution of Runs Scored\")\n",
        "plt.show()\n"
      ],
      "metadata": {
        "colab": {
          "base_uri": "https://localhost:8080/",
          "height": 472
        },
        "id": "HBk94F-VsRlM",
        "outputId": "de909ad5-6990-48a0-8235-ca4afcf6fabb"
      },
      "execution_count": null,
      "outputs": [
        {
          "output_type": "display_data",
          "data": {
            "text/plain": [
              "<Figure size 640x480 with 1 Axes>"
            ],
            "image/png": "[encoded data removed]"
          },
          "metadata": {}
        }
      ]
    },
    {
      "cell_type": "code",
      "source": [
        "def calculate_performance(row):\n",
        "    score = row['Runs'] + (0.001 * row['SR']) + (2 * row['4s']) + (3 * row['6s'])\n",
        "    if row['Not Out'] == 1:  # Add bonus points for Not Out\n",
        "        score += 10\n",
        "    return score\n",
        "\n",
        "data['Performance_Score'] = data.apply(calculate_performance, axis=1)\n",
        "\n",
        "data.to_csv(\"batting_data.csv\", index=False)\n",
        "print(data[['Name', 'Runs', '4s', '6s', 'SR', 'Not Out', 'Performance_Score']])\n"
      ],
      "metadata": {
        "colab": {
          "base_uri": "https://localhost:8080/"
        },
        "id": "nTtb3Zcyu2CU",
        "outputId": "aaabf372-7040-40b9-ef1a-3ede1a1216c5"
      },
      "execution_count": null,
      "outputs": [
        {
          "output_type": "stream",
          "name": "stdout",
          "text": [
            "                    Name  Runs  4s  6s      SR  Not Out  Performance_Score\n",
            "0           Tanzid Hasan    60   6   3  100.00        0           81.10000\n",
            "1             Litton Das     2   0   0   28.57        0            2.02857\n",
            "2     Mehidy Hasan Miraz    74   6   1   73.26        0           89.07326\n",
            "3           Afif Hossain    28   4   0   96.55        0           36.09655\n",
            "4            Mahmudullah    50   3   3  113.63        1           75.11363\n",
            "...                  ...   ...  ..  ..     ...      ...                ...\n",
            "4036       Azhar Hossain     1   0   0   14.28        0            1.01428\n",
            "4037        Aminul Islam    10   1   0   38.46        0           12.03846\n",
            "4038        Zahid Razzak     6   0   0   28.57        0            6.02857\n",
            "4039      Athar Ali Khan    16   1   0   47.05        0           18.04705\n",
            "4040       Jahangir Shah     7   0   0   50.00        1           17.05000\n",
            "\n",
            "[4041 rows x 7 columns]\n"
          ]
        }
      ]
    },
    {
      "cell_type": "code",
      "source": [
        "import pandas as pd\n",
        "from sklearn.model_selection import train_test_split\n",
        "from sklearn.preprocessing import StandardScaler\n",
        "\n",
        "data = pd.read_csv(\"batting_data.csv\")\n",
        "\n",
        "features = ['Runs', 'BF', '4s', '6s', 'SR', 'Not Out']\n",
        "target = 'Performance_Score'\n",
        "\n",
        "X = data[features]\n",
        "y = data[target]\n",
        "\n",
        "\n",
        "X_train, X_test, y_train, y_test = train_test_split(X, y, test_size=0.2, random_state=42)\n",
        "\n",
        "scaler = StandardScaler()\n",
        "X_train = scaler.fit_transform(X_train)\n",
        "X_test = scaler.transform(X_test)\n",
        "\n",
        "print(\"Training set shape:\", X_train.shape)\n",
        "print(\"Test set shape:\", X_test.shape)\n"
      ],
      "metadata": {
        "colab": {
          "base_uri": "https://localhost:8080/"
        },
        "id": "tRiq-HU3xNXK",
        "outputId": "6cd266d0-eee4-4a67-d762-1277c91645c4"
      },
      "execution_count": null,
      "outputs": [
        {
          "output_type": "stream",
          "name": "stdout",
          "text": [
            "Training set shape: (3232, 6)\n",
            "Test set shape: (809, 6)\n"
          ]
        }
      ]
    },
    {
      "cell_type": "code",
      "source": [
        "from sklearn.linear_model import LinearRegression\n",
        "from sklearn.metrics import mean_absolute_error, r2_score\n",
        "\n",
        "model = LinearRegression()\n",
        "\n",
        "model.fit(X_train, y_train)\n",
        "\n",
        "y_pred = model.predict(X_test)\n",
        "\n",
        "mae = mean_absolute_error(y_test, y_pred)\n",
        "r2 = r2_score(y_test, y_pred)\n",
        "\n",
        "print(\"Model Performance:\")\n",
        "print(\"Mean Absolute Error (MAE):\", mae)\n",
        "print(\"R² Score:\", r2)\n",
        "\n",
        "results = pd.DataFrame({\n",
        "    'Actual Performance_Score': y_test,\n",
        "    'Predicted Performance_Score': y_pred\n",
        "}).head(10)\n",
        "\n",
        "print(\"\\nComparison of Actual vs Predicted Performance Scores:\")\n",
        "print(results)\n"
      ],
      "metadata": {
        "colab": {
          "base_uri": "https://localhost:8080/"
        },
        "id": "WAyhwfas0UE0",
        "outputId": "f0ef00fb-efa9-4b80-ffa3-904278eb39a0"
      },
      "execution_count": null,
      "outputs": [
        {
          "output_type": "stream",
          "name": "stdout",
          "text": [
            "Model Performance:\n",
            "Mean Absolute Error (MAE): 2.5874097535578124e-14\n",
            "R² Score: 1.0\n",
            "\n",
            "Comparison of Actual vs Predicted Performance Scores:\n",
            "      Actual Performance_Score  Predicted Performance_Score\n",
            "1157                   3.06000                 3.060000e+00\n",
            "149                    4.04000                 4.040000e+00\n",
            "2024                   6.04615                 6.046150e+00\n",
            "3180                  16.07500                 1.607500e+01\n",
            "3982                   5.04166                 5.041660e+00\n",
            "2929                  16.04827                 1.604827e+01\n",
            "1298                  20.04705                 2.004705e+01\n",
            "3493                  31.05348                 3.105348e+01\n",
            "1123                   4.02500                 4.025000e+00\n",
            "1056                   0.00000                 2.842171e-14\n"
          ]
        }
      ]
    },
    {
      "cell_type": "code",
      "source": [
        "y_pred = pd.Series(y_pred).reset_index(drop=True)\n",
        "\n",
        "ranking_data = pd.DataFrame(X_test) # Convert X_test to a DataFrame\n",
        "ranking_data['Actual Performance_Score'] = y_test.reset_index(drop=True)  # Add actual scores\n",
        "ranking_data['Predicted Performance_Score'] = y_pred  # Add predicted scores\n",
        "\n",
        "ranking_data_sorted = ranking_data.sort_values(by='Predicted Performance_Score', ascending=False)\n",
        "\n",
        "print(\"Top 10 Batters Based on Predicted Performance:\")\n",
        "print(ranking_data_sorted[['Predicted Performance_Score']].head(10))"
      ],
      "metadata": {
        "colab": {
          "base_uri": "https://localhost:8080/"
        },
        "id": "dCTiFnTM5cqu",
        "outputId": "5e269e2e-00af-4b9f-f45d-14d83898fe93"
      },
      "execution_count": null,
      "outputs": [
        {
          "output_type": "stream",
          "name": "stdout",
          "text": [
            "Top 10 Batters Based on Predicted Performance:\n",
            "     Predicted Performance_Score\n",
            "351                    188.10285\n",
            "737                    178.09600\n",
            "783                    160.10416\n",
            "236                    160.08943\n",
            "661                    154.15217\n",
            "701                    153.12717\n",
            "583                    150.12580\n",
            "678                    150.11979\n",
            "677                    137.10353\n",
            "704                    134.16250\n"
          ]
        }
      ]
    },
    {
      "cell_type": "code",
      "source": [
        "import numpy as np\n",
        "from datetime import datetime\n",
        "\n",
        "data['Date'] = pd.to_datetime(data['Date'])\n",
        "\n",
        "now = datetime.now()\n",
        "data['Days'] = (now - data['Date']).dt.days\n",
        "\n",
        "d = 0.001  # Decay rate\n",
        "data['W'] = np.exp(-d * data['Days'])\n",
        "\n",
        "print(\"Data with Weights:\")\n",
        "print(data[['Name', 'Date', 'Days', 'W']].head())\n",
        "\n",
        "data.to_csv(\"batting_data.csv\", index=False)\n"
      ],
      "metadata": {
        "colab": {
          "base_uri": "https://localhost:8080/"
        },
        "id": "ujh8x1yjLCty",
        "outputId": "610a3151-0420-4468-e9cc-d0e4a8a3bf6d"
      },
      "execution_count": null,
      "outputs": [
        {
          "output_type": "stream",
          "name": "stdout",
          "text": [
            "Data with Weights:\n",
            "                 Name       Date  Days         W\n",
            "0        Tanzid Hasan 2024-12-08     7  0.993024\n",
            "1          Litton Das 2024-12-08     7  0.993024\n",
            "2  Mehidy Hasan Miraz 2024-12-08     7  0.993024\n",
            "3        Afif Hossain 2024-12-08     7  0.993024\n",
            "4         Mahmudullah 2024-12-08     7  0.993024\n"
          ]
        }
      ]
    },
    {
      "cell_type": "code",
      "source": [
        "data['W_Score'] = data['Performance_Score'] * data['W']\n",
        "\n",
        "print(\"Data with Weighted Scores:\")\n",
        "print(data[['Name', 'Date', 'Performance_Score', 'W', 'W_Score']].head())\n",
        "\n",
        "data.to_csv(\"batting_data.csv\", index=False)\n"
      ],
      "metadata": {
        "colab": {
          "base_uri": "https://localhost:8080/"
        },
        "id": "zQKuE08zLPqe",
        "outputId": "27625285-fdf2-4103-ab54-aed9d438009f"
      },
      "execution_count": null,
      "outputs": [
        {
          "output_type": "stream",
          "name": "stdout",
          "text": [
            "Data with Weighted Scores:\n",
            "                 Name       Date  Performance_Score         W    W_Score\n",
            "0        Tanzid Hasan 2024-12-08           81.10000  0.993024  80.534282\n",
            "1          Litton Das 2024-12-08            2.02857  0.993024   2.014420\n",
            "2  Mehidy Hasan Miraz 2024-12-08           89.07326  0.993024  88.451924\n",
            "3        Afif Hossain 2024-12-08           36.09655  0.993024  35.844756\n",
            "4         Mahmudullah 2024-12-08           75.11363  0.993024  74.589671\n"
          ]
        }
      ]
    },
    {
      "cell_type": "code",
      "source": [
        "agg = data.groupby(['Name', 'Ground', 'Opposition']).agg({\n",
        "    'W_Score': 'mean',   # Average of weighted scores\n",
        "}).reset_index()\n",
        "\n",
        "agg.rename(columns={'W_Score': 'Avg_W_Score'}, inplace=True)\n",
        "\n",
        "print(\"Aggregated Data:\")\n",
        "print(agg.head())\n",
        "\n",
        "agg.to_csv(\"aggregated_data.csv\", index=False)\n"
      ],
      "metadata": {
        "colab": {
          "base_uri": "https://localhost:8080/"
        },
        "id": "bfKE4CNFLqh-",
        "outputId": "4bcfe7f7-613b-4abe-e1fe-9634022751ad"
      },
      "execution_count": null,
      "outputs": [
        {
          "output_type": "stream",
          "name": "stdout",
          "text": [
            "Aggregated Data:\n",
            "           Name      Ground    Opposition  Avg_W_Score\n",
            "0  Abdur Razzak    Auckland   New Zealand     0.079462\n",
            "1  Abdur Razzak  Basseterre   West Indies     0.227415\n",
            "2  Abdur Razzak     Belfast       Ireland     0.108698\n",
            "3  Abdur Razzak      Benoni  South Africa     0.103593\n",
            "4  Abdur Razzak  Birmingham       England     0.170160\n"
          ]
        }
      ]
    },
    {
      "cell_type": "code",
      "source": [
        "venue = 'Providence'\n",
        "opposition = 'West Indies'\n",
        "\n",
        "filtered_data = agg[(agg['Ground'] == venue) & (agg['Opposition'] == opposition)]\n",
        "\n",
        "top_batters = filtered_data.sort_values(by='Avg_W_Score', ascending=False).head(10)\n",
        "\n",
        "print(f\"Top 10 Batters for {opposition} at {venue}:\")\n",
        "print(top_batters[['Name', 'Avg_W_Score']])\n"
      ],
      "metadata": {
        "colab": {
          "base_uri": "https://localhost:8080/"
        },
        "id": "48I5NmpUOGPz",
        "outputId": "813451bd-8acd-4673-e50e-7d28ca78288c"
      },
      "execution_count": null,
      "outputs": [
        {
          "output_type": "stream",
          "name": "stdout",
          "text": [
            "Top 10 Batters for West Indies at Providence:\n",
            "                       Name  Avg_W_Score\n",
            "2345            Tamim Iqbal    17.759189\n",
            "1759            Nurul Hasan    17.564812\n",
            "848              Litton Das    16.271214\n",
            "1128     Mehidy Hasan Miraz    10.770954\n",
            "950             Mahmudullah    10.352464\n",
            "1686  Najmul Hossain Shanto     9.896019\n",
            "2115        Shakib Al Hasan     8.462745\n",
            "1534        Mushfiqur Rahim     5.965829\n",
            "1431       Mosaddek Hossain     4.573112\n",
            "72             Afif Hossain     2.271747\n"
          ]
        }
      ]
    },
    {
      "cell_type": "code",
      "source": [
        "import pandas as pd\n",
        "\n",
        "data = pd.read_csv(\"aggregated_data.csv\")\n",
        "\n",
        "overall_avg = data.groupby('Name')['Avg_W_Score'].sum().reset_index()\n",
        "overall_avg.rename(columns={'Avg_W_Score': 'Overall_Avg_W_Score'}, inplace=True)\n",
        "\n",
        "venue = 'Providence'\n",
        "opposition = 'West Indies'\n",
        "\n",
        "specific_data = data[(data['Ground'] == venue) & (data['Opposition'] == opposition)]\n",
        "specific_data = specific_data[['Name', 'Avg_W_Score']]\n",
        "specific_data.rename(columns={'Avg_W_Score': 'Specific_Avg_W_Score'}, inplace=True)\n",
        "\n",
        "merged_data = pd.merge(overall_avg, specific_data, on='Name', how='left')\n",
        "\n",
        "merged_data['Specific_Avg_W_Score'] = merged_data['Specific_Avg_W_Score'].fillna(0)\n",
        "\n",
        "merged_data['Final_Score'] = (0.8 * merged_data['Overall_Avg_W_Score']) + \\\n",
        "                             (0.2 * merged_data['Specific_Avg_W_Score'])\n",
        "\n",
        "top_10_batters = merged_data.sort_values(by='Final_Score', ascending=False).drop_duplicates(subset=['Name']).head(10)\n",
        "\n",
        "print(f\"Top 10 Batters for {opposition} at {venue}:\")\n",
        "print(top_10_batters[['Name', 'Overall_Avg_W_Score', 'Specific_Avg_W_Score', 'Final_Score']])\n"
      ],
      "metadata": {
        "colab": {
          "base_uri": "https://localhost:8080/"
        },
        "id": "crKR33bXto5d",
        "outputId": "f9cc55f7-26a5-4855-ca60-33faa477c3bd"
      },
      "execution_count": null,
      "outputs": [
        {
          "output_type": "stream",
          "name": "stdout",
          "text": [
            "Top 10 Batters for West Indies at Providence:\n",
            "                      Name  Overall_Avg_W_Score  Specific_Avg_W_Score  \\\n",
            "85   Najmul Hossain Shanto           771.542025              9.896019   \n",
            "79         Mushfiqur Rahim           687.967508              5.965829   \n",
            "57             Mahmudullah           624.030812             10.352464   \n",
            "62      Mehidy Hasan Miraz           620.883987             10.770954   \n",
            "111        Shakib Al Hasan           617.914797              8.462745   \n",
            "52              Litton Das           577.990931             16.271214   \n",
            "133          Towhid Hridoy           442.091533              0.000000   \n",
            "120          Soumya Sarkar           387.195239              0.000000   \n",
            "128           Tanzid Hasan           339.069586              0.000000   \n",
            "126            Tamim Iqbal           313.536755             17.759189   \n",
            "\n",
            "     Final_Score  \n",
            "85    619.212824  \n",
            "79    551.567172  \n",
            "57    501.295143  \n",
            "62    498.861380  \n",
            "111   496.024387  \n",
            "52    465.646988  \n",
            "133   353.673227  \n",
            "120   309.756191  \n",
            "128   271.255669  \n",
            "126   254.381242  \n"
          ]
        }
      ]
    },
    {
      "cell_type": "markdown",
      "source": [
        "**New Start**\n",
        "\n",
        "\n",
        "\n",
        "\n",
        "\n",
        "\n",
        "\n",
        "\n",
        "\n",
        "\n",
        "\n",
        "\n",
        "\n",
        "..\n",
        "\n",
        "New start"
      ],
      "metadata": {
        "id": "f0BJYhR_T331"
      }
    },
    {
      "cell_type": "code",
      "source": [
        "import pandas as pd\n",
        "from sklearn.model_selection import train_test_split\n",
        "from sklearn.preprocessing import StandardScaler\n",
        "from sklearn.ensemble import RandomForestRegressor\n",
        "\n",
        "batting_data = pd.read_csv('batting_data.csv')\n",
        "aggregated_data = pd.read_csv('aggregated_data.csv')\n",
        "\n",
        "merged_data = pd.merge(batting_data, aggregated_data, on=['Name', 'Ground', 'Opposition'], how='inner')\n",
        "\n",
        "merged_data.dropna(inplace=True)\n",
        "\n",
        "print(\"Merged Data:\")\n",
        "print(merged_data.head())\n",
        "\n",
        "X = merged_data[['Runs', 'BF', '4s', '6s', 'SR', 'Ground', 'Opposition']]\n",
        "y = merged_data['Avg_W_Score']\n",
        "\n",
        "X = pd.get_dummies(X, columns=['Ground', 'Opposition'], drop_first=True)\n",
        "\n",
        "scaler = StandardScaler()\n",
        "X_scaled = scaler.fit_transform(X)\n",
        "\n",
        "X_train, X_test, y_train, y_test = train_test_split(X_scaled, y, test_size=0.2, random_state=42)\n",
        "\n",
        "print(f\"Training data shape: {X_train.shape}\")\n",
        "print(f\"Test data shape: {X_test.shape}\")\n",
        "\n",
        "model = RandomForestRegressor(random_state=42)\n",
        "\n",
        "model.fit(X_train, y_train)\n",
        "\n",
        "r2_score = model.score(X_test, y_test)\n",
        "print(f\"Model R^2 Score: {r2_score:.4f}\")\n"
      ],
      "metadata": {
        "colab": {
          "base_uri": "https://localhost:8080/"
        },
        "id": "ev85MJC1xcHY",
        "outputId": "fef7f792-963a-44ba-aabb-42291f3461a0"
      },
      "execution_count": null,
      "outputs": [
        {
          "output_type": "stream",
          "name": "stdout",
          "text": [
            "Merged Data:\n",
            "                 Name  Runs   BF  4s  6s      SR  Innings   Opposition  \\\n",
            "0        Tanzid Hasan    60   60   6   3  100.00        1  West Indies   \n",
            "1          Litton Das     2    7   0   0   28.57        1  West Indies   \n",
            "2  Mehidy Hasan Miraz    74  101   6   1   73.26        1  West Indies   \n",
            "3        Afif Hossain    28   29   4   0   96.55        1  West Indies   \n",
            "4         Mahmudullah    50   44   3   3  113.63        1  West Indies   \n",
            "\n",
            "       Ground        Date  Not Out  Performance_Score  Days         W  \\\n",
            "0  Basseterre  2024-12-08        0           81.10000     7  0.993024   \n",
            "1  Basseterre  2024-12-08        0            2.02857     7  0.993024   \n",
            "2  Basseterre  2024-12-08        0           89.07326     7  0.993024   \n",
            "3  Basseterre  2024-12-08        0           36.09655     7  0.993024   \n",
            "4  Basseterre  2024-12-08        1           75.11363     7  0.993024   \n",
            "\n",
            "     W_Score  Avg_W_Score  \n",
            "0  80.534282    80.534282  \n",
            "1   2.014420     2.014420  \n",
            "2  88.451924    88.451924  \n",
            "3  35.844756    35.844756  \n",
            "4  74.589671    21.240438  \n",
            "Training data shape: (3232, 107)\n",
            "Test data shape: (809, 107)\n",
            "Model R^2 Score: 0.3715\n"
          ]
        }
      ]
    },
    {
      "cell_type": "code",
      "source": [
        "import pandas as pd\n",
        "import numpy as np\n",
        "from sklearn.metrics import mean_absolute_error, mean_squared_error, r2_score\n",
        "from math import sqrt\n",
        "\n",
        "batting_data = pd.read_csv('batting_data.csv')\n",
        "aggregated_data = pd.read_csv('aggregated_data.csv')\n",
        "\n",
        "merged_data = pd.merge(batting_data, aggregated_data, on=['Name', 'Ground', 'Opposition'], how='inner')\n",
        "\n",
        "X = merged_data[['Runs', 'BF', '4s', '6s', 'SR', 'Ground', 'Opposition']]\n",
        "X_encoded = pd.get_dummies(X, columns=['Ground', 'Opposition'], drop_first=True)\n",
        "\n",
        "from sklearn.preprocessing import StandardScaler\n",
        "scaler = StandardScaler()\n",
        "X_scaled = scaler.fit_transform(X_encoded)\n",
        "\n",
        "y_pred = model.predict(X_scaled)\n",
        "\n",
        "merged_data['Predicted_Score'] = y_pred\n",
        "\n",
        "merged_data['Final_Score'] = (0.8 * merged_data['Avg_W_Score']) + (0.2 * merged_data['Predicted_Score'])\n",
        "\n",
        "final_top_players = (\n",
        "    merged_data.sort_values(by='Final_Score', ascending=False)\n",
        "    .drop_duplicates(subset=['Name'])\n",
        "    .head(10)\n",
        ")\n",
        "\n",
        "print(\"Top 10 Batters Based on Final Score:\")\n",
        "print(final_top_players[['Name', 'Ground', 'Opposition', 'Avg_W_Score', 'Predicted_Score', 'Final_Score']])\n",
        "\n",
        "mae = mean_absolute_error(merged_data['Avg_W_Score'], merged_data['Predicted_Score'])\n",
        "mse = mean_squared_error(merged_data['Avg_W_Score'], merged_data['Predicted_Score'])\n",
        "rmse = sqrt(mse)\n",
        "r2 = r2_score(merged_data['Avg_W_Score'], merged_data['Predicted_Score'])\n",
        "\n",
        "print(\"\\nModel Error Metrics:\")\n",
        "print(f\"Mean Absolute Error (MAE): {mae:.4f}\")\n",
        "print(f\"Mean Squared Error (MSE): {mse:.4f}\")\n",
        "print(f\"Root Mean Squared Error (RMSE): {rmse:.4f}\")\n",
        "print(f\"R² Score: {r2:.4f}\")\n"
      ],
      "metadata": {
        "colab": {
          "base_uri": "https://localhost:8080/"
        },
        "id": "u6wIBKSpx_uc",
        "outputId": "a6df9b93-feaf-4b3c-a094-b5e5cf1adbb4"
      },
      "execution_count": null,
      "outputs": [
        {
          "output_type": "stream",
          "name": "stdout",
          "text": [
            "Top 10 Batters Based on Final Score:\n",
            "                      Name         Ground    Opposition  Avg_W_Score  \\\n",
            "72           Soumya Sarkar         Nelson   New Zealand   152.716407   \n",
            "131            Mahmudullah       Wankhede  South Africa    95.528359   \n",
            "228     Mehidy Hasan Miraz         Lahore   Afghanistan    90.774877   \n",
            "38            Tanzid Hasan     Chattogram     Sri Lanka    86.930390   \n",
            "231  Najmul Hossain Shanto         Lahore   Afghanistan    80.142293   \n",
            "103        Shakib Al Hasan          Delhi     Sri Lanka    74.785542   \n",
            "5                Jaker Ali     Basseterre   West Indies    62.679703   \n",
            "212          Towhid Hridoy  Colombo (RPS)     Sri Lanka    62.363073   \n",
            "164             Litton Das     Dharamsala       England    62.398857   \n",
            "43          Rishad Hossain     Chattogram     Sri Lanka    61.151497   \n",
            "\n",
            "     Predicted_Score  Final_Score  \n",
            "72        111.422885   144.457702  \n",
            "131        60.003599    88.423407  \n",
            "228        71.764891    86.972880  \n",
            "38         63.162233    82.176759  \n",
            "231        69.776105    78.069055  \n",
            "103        52.095236    70.247481  \n",
            "5          47.935995    59.730961  \n",
            "212        45.997120    59.089883  \n",
            "164        41.097490    58.138583  \n",
            "43         36.948177    56.310833  \n",
            "\n",
            "Model Error Metrics:\n",
            "Mean Absolute Error (MAE): 1.4453\n",
            "Mean Squared Error (MSE): 15.4459\n",
            "Root Mean Squared Error (RMSE): 3.9301\n",
            "R² Score: 0.7895\n"
          ]
        }
      ]
    },
    {
      "cell_type": "code",
      "source": [
        "import pandas as pd\n",
        "import numpy as np\n",
        "from sklearn.metrics import mean_absolute_error, mean_squared_error, r2_score\n",
        "from math import sqrt\n",
        "from sklearn.ensemble import GradientBoostingRegressor\n",
        "from sklearn.preprocessing import StandardScaler\n",
        "\n",
        "batting_data = pd.read_csv('batting_data.csv')\n",
        "aggregated_data = pd.read_csv('aggregated_data.csv')\n",
        "\n",
        "merged_data = pd.merge(batting_data, aggregated_data, on=['Name', 'Ground', 'Opposition'], how='inner')\n",
        "\n",
        "X = merged_data[['Runs', 'BF', '4s', '6s', 'SR', 'Ground', 'Opposition']]\n",
        "X_encoded = pd.get_dummies(X, columns=['Ground', 'Opposition'], drop_first=True)\n",
        "\n",
        "scaler = StandardScaler()\n",
        "X_scaled = scaler.fit_transform(X_encoded)\n",
        "\n",
        "y = merged_data['Avg_W_Score']\n",
        "\n",
        "X_train = X_scaled  # Assuming pre-split data for simplicity\n",
        "y_train = y\n",
        "\n",
        "gb_model = GradientBoostingRegressor(n_estimators=100, learning_rate=0.1, max_depth=3, random_state=42)\n",
        "gb_model.fit(X_train, y_train)\n",
        "\n",
        "y_pred_gb = gb_model.predict(X_scaled)\n",
        "\n",
        "merged_data['Predicted_Score_GB'] = y_pred_gb\n",
        "\n",
        "merged_data['Final_Score'] = (0.8 * merged_data['Avg_W_Score']) + (0.2 * merged_data['Predicted_Score_GB'])\n",
        "\n",
        "final_top_players = (\n",
        "    merged_data.sort_values(by='Final_Score', ascending=False)\n",
        "    .drop_duplicates(subset=['Name'])\n",
        "    .head(10)\n",
        ")\n",
        "\n",
        "print(\"Top 10 Batters Based on Final Score (Gradient Boosting):\")\n",
        "print(final_top_players[['Name', 'Ground', 'Opposition', 'Avg_W_Score', 'Predicted_Score_GB', 'Final_Score']])\n",
        "\n",
        "mae = mean_absolute_error(merged_data['Avg_W_Score'], merged_data['Predicted_Score_GB'])\n",
        "mse = mean_squared_error(merged_data['Avg_W_Score'], merged_data['Predicted_Score_GB'])\n",
        "rmse = sqrt(mse)\n",
        "r2 = r2_score(merged_data['Avg_W_Score'], merged_data['Predicted_Score_GB'])\n",
        "\n",
        "print(\"\\nModel Error Metrics:\")\n",
        "print(f\"Mean Absolute Error (MAE): {mae:.4f}\")\n",
        "print(f\"Mean Squared Error (MSE): {mse:.4f}\")\n",
        "print(f\"Root Mean Squared Error (RMSE): {rmse:.4f}\")\n",
        "print(f\"R² Score: {r2:.4f}\")\n"
      ],
      "metadata": {
        "colab": {
          "base_uri": "https://localhost:8080/"
        },
        "id": "NK3d_Q1dfdj7",
        "outputId": "924c500b-6bd2-4522-eeb9-aa1d41e02286"
      },
      "execution_count": null,
      "outputs": [
        {
          "output_type": "stream",
          "name": "stdout",
          "text": [
            "Top 10 Batters Based on Final Score (Gradient Boosting):\n",
            "                      Name      Ground    Opposition  Avg_W_Score  \\\n",
            "72           Soumya Sarkar      Nelson   New Zealand   152.716407   \n",
            "131            Mahmudullah    Wankhede  South Africa    95.528359   \n",
            "228     Mehidy Hasan Miraz      Lahore   Afghanistan    90.774877   \n",
            "38            Tanzid Hasan  Chattogram     Sri Lanka    86.930390   \n",
            "231  Najmul Hossain Shanto      Lahore   Afghanistan    80.142293   \n",
            "103        Shakib Al Hasan       Delhi     Sri Lanka    74.785542   \n",
            "164             Litton Das  Dharamsala       England    62.398857   \n",
            "90           Towhid Hridoy        Pune     Australia    60.391593   \n",
            "43          Rishad Hossain  Chattogram     Sri Lanka    61.151497   \n",
            "5                Jaker Ali  Basseterre   West Indies    62.679703   \n",
            "\n",
            "     Predicted_Score_GB  Final_Score  \n",
            "72           139.098532   149.992832  \n",
            "131           70.151004    90.452888  \n",
            "228           63.555120    85.330926  \n",
            "38            39.280105    77.400333  \n",
            "231           58.894281    75.892690  \n",
            "103           64.062890    72.641012  \n",
            "164           45.794767    59.078039  \n",
            "90            44.314163    57.176107  \n",
            "43            33.796660    55.680530  \n",
            "5             27.576976    55.659157  \n",
            "\n",
            "Model Error Metrics:\n",
            "Mean Absolute Error (MAE): 2.6483\n",
            "Mean Squared Error (MSE): 27.4567\n",
            "Root Mean Squared Error (RMSE): 5.2399\n",
            "R² Score: 0.6258\n"
          ]
        }
      ]
    },
    {
      "cell_type": "code",
      "source": [
        "import pandas as pd\n",
        "import numpy as np\n",
        "from sklearn.model_selection import train_test_split\n",
        "from sklearn.preprocessing import StandardScaler\n",
        "from sklearn.metrics import mean_absolute_error, mean_squared_error, r2_score\n",
        "from math import sqrt\n",
        "\n",
        "batting_data = pd.read_csv('batting_data.csv')\n",
        "aggregated_data = pd.read_csv('aggregated_data.csv')\n",
        "\n",
        "merged_data = pd.merge(batting_data, aggregated_data, on=['Name', 'Ground', 'Opposition'], how='inner')\n",
        "\n",
        "X = merged_data[['Runs', 'BF', '4s', '6s', 'SR', 'Ground', 'Opposition']]\n",
        "y = merged_data['Avg_W_Score']\n",
        "\n",
        "X_encoded = pd.get_dummies(X, columns=['Ground', 'Opposition'], drop_first=True)\n",
        "\n",
        "X_train, X_test, y_train, y_test = train_test_split(X_encoded, y, test_size=0.2, random_state=42)\n",
        "\n",
        "scaler = StandardScaler()\n",
        "X_train_scaled = scaler.fit_transform(X_train)\n",
        "X_test_scaled = scaler.transform(X_test)\n",
        "\n",
        "from xgboost import XGBRegressor\n",
        "\n",
        "xgb_model = XGBRegressor(n_estimators=100, learning_rate=0.1, max_depth=3, random_state=42)\n",
        "xgb_model.fit(X_train_scaled, y_train)\n",
        "\n",
        "y_pred_xgb = xgb_model.predict(X_test_scaled)\n",
        "mae_xgb = mean_absolute_error(y_test, y_pred_xgb)\n",
        "r2_xgb = r2_score(y_test, y_pred_xgb)\n",
        "print(\"XGBoost Regressor:\")\n",
        "print(f\"MAE: {mae_xgb:.4f}, R²: {r2_xgb:.4f}\")\n",
        "\n",
        "from sklearn.svm import SVR\n",
        "\n",
        "svr_model = SVR(kernel='rbf', C=1.0, epsilon=0.1)\n",
        "svr_model.fit(X_train_scaled, y_train)\n",
        "\n",
        "y_pred_svr = svr_model.predict(X_test_scaled)\n",
        "mae_svr = mean_absolute_error(y_test, y_pred_svr)\n",
        "r2_svr = r2_score(y_test, y_pred_svr)\n",
        "print(\"\\nSupport Vector Regressor:\")\n",
        "print(f\"MAE: {mae_svr:.4f}, R²: {r2_svr:.4f}\")\n",
        "\n",
        "X_scaled_full = scaler.transform(X_encoded)\n",
        "\n",
        "merged_data['Predicted_Score_XGB'] = xgb_model.predict(X_scaled_full)\n",
        "\n",
        "merged_data['Predicted_Score_SVR'] = svr_model.predict(X_scaled_full)\n",
        "\n",
        "merged_data['Final_Combined_Score'] = (\n",
        "    0.5 * merged_data['Predicted_Score_XGB'] +\n",
        "    0.5 * merged_data['Predicted_Score_SVR']\n",
        ")\n",
        "\n",
        "final_top_players = (\n",
        "    merged_data.sort_values(by='Final_Combined_Score', ascending=False)\n",
        "    .drop_duplicates(subset=['Name'])\n",
        "    .head(10)\n",
        ")\n",
        "\n",
        "print(\"\\nTop 10 Batters Based on Combined Model Scores:\")\n",
        "print(final_top_players[['Name', 'Ground', 'Opposition', 'Final_Combined_Score']])\n"
      ],
      "metadata": {
        "id": "rEQPC2Ytzbcu"
      },
      "execution_count": null,
      "outputs": []
    },
    {
      "cell_type": "code",
      "source": [
        "from xgboost import XGBRegressor\n",
        "from sklearn.metrics import mean_absolute_error, r2_score\n",
        "from sklearn.model_selection import train_test_split\n",
        "from sklearn.preprocessing import StandardScaler\n",
        "import pandas as pd\n",
        "\n",
        "batting_data = pd.read_csv('batting_data.csv')\n",
        "aggregated_data = pd.read_csv('aggregated_data.csv')\n",
        "merged_data = pd.merge(batting_data, aggregated_data, on=['Name', 'Ground', 'Opposition'], how='inner')\n",
        "\n",
        "X = merged_data[['Runs', 'BF', '4s', '6s', 'SR', 'Ground', 'Opposition']]\n",
        "y = merged_data['Avg_W_Score']\n",
        "\n",
        "X_encoded = pd.get_dummies(X, columns=['Ground', 'Opposition'], drop_first=True)\n",
        "\n",
        "X_train, X_test, y_train, y_test = train_test_split(X_encoded, y, test_size=0.2, random_state=42)\n",
        "\n",
        "scaler = StandardScaler()\n",
        "X_train_scaled = scaler.fit_transform(X_train)\n",
        "X_test_scaled = scaler.transform(X_test)\n",
        "\n",
        "xgb_model = XGBRegressor(n_estimators=100, learning_rate=0.1, max_depth=3, random_state=42)\n",
        "xgb_model.fit(X_train_scaled, y_train)\n",
        "\n",
        "y_pred_xgb = xgb_model.predict(X_test_scaled)\n",
        "mae_xgb = mean_absolute_error(y_test, y_pred_xgb)\n",
        "r2_xgb = r2_score(y_test, y_pred_xgb)\n",
        "\n",
        "print(\"XGBoost Regressor:\")\n",
        "print(f\"MAE: {mae_xgb:.4f}, R²: {r2_xgb:.4f}\")\n"
      ],
      "metadata": {
        "colab": {
          "base_uri": "https://localhost:8080/"
        },
        "id": "EwQkoNyJztm0",
        "outputId": "a4fd778a-eafc-4be5-dfc7-8d1ccbb1be1e"
      },
      "execution_count": null,
      "outputs": [
        {
          "output_type": "stream",
          "name": "stdout",
          "text": [
            "XGBoost Regressor:\n",
            "MAE: 3.2454, R²: 0.4166\n"
          ]
        }
      ]
    },
    {
      "cell_type": "code",
      "source": [
        "from sklearn.svm import SVR\n",
        "from sklearn.metrics import mean_absolute_error, r2_score\n",
        "from sklearn.model_selection import train_test_split\n",
        "from sklearn.preprocessing import StandardScaler\n",
        "import pandas as pd\n",
        "\n",
        "batting_data = pd.read_csv('batting_data.csv')\n",
        "aggregated_data = pd.read_csv('aggregated_data.csv')\n",
        "merged_data = pd.merge(batting_data, aggregated_data, on=['Name', 'Ground', 'Opposition'], how='inner')\n",
        "\n",
        "X = merged_data[['Runs', 'BF', '4s', '6s', 'SR', 'Ground', 'Opposition']]\n",
        "y = merged_data['Avg_W_Score']\n",
        "\n",
        "X_encoded = pd.get_dummies(X, columns=['Ground', 'Opposition'], drop_first=True)\n",
        "\n",
        "X_train, X_test, y_train, y_test = train_test_split(X_encoded, y, test_size=0.2, random_state=42)\n",
        "\n",
        "scaler = StandardScaler()\n",
        "X_train_scaled = scaler.fit_transform(X_train)\n",
        "X_test_scaled = scaler.transform(X_test)\n",
        "\n",
        "svr_model = SVR(kernel='rbf', C=1.0, epsilon=0.1)\n",
        "svr_model.fit(X_train_scaled, y_train)\n",
        "\n",
        "y_pred_svr = svr_model.predict(X_test_scaled)\n",
        "mae_svr = mean_absolute_error(y_test, y_pred_svr)\n",
        "r2_svr = r2_score(y_test, y_pred_svr)\n",
        "\n",
        "print(\"\\nSupport Vector Regressor:\")\n",
        "print(f\"MAE: {mae_svr:.4f}, R²: {r2_svr:.4f}\")\n"
      ],
      "metadata": {
        "colab": {
          "base_uri": "https://localhost:8080/"
        },
        "id": "9PlLueTPzy7M",
        "outputId": "7ae906e4-f323-4583-ad68-295b35943541"
      },
      "execution_count": null,
      "outputs": [
        {
          "output_type": "stream",
          "name": "stdout",
          "text": [
            "\n",
            "Support Vector Regressor:\n",
            "MAE: 2.9266, R²: 0.0870\n"
          ]
        }
      ]
    }
  ]
}