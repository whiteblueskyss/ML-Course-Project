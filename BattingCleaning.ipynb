{
  "nbformat": 4,
  "nbformat_minor": 0,
  "metadata": {
    "colab": {
      "provenance": []
    },
    "kernelspec": {
      "name": "python3",
      "display_name": "Python 3"
    },
    "language_info": {
      "name": "python"
    }
  },
  "cells": [
    {
      "cell_type": "code",
      "execution_count": null,
      "metadata": {
        "id": "iweBgf3cLPlY"
      },
      "outputs": [],
      "source": [
        "import pandas as pd"
      ]
    },
    {
      "cell_type": "code",
      "source": [
        "# Load the CSV file\n",
        "file_path = \"testbatting.csv\"\n",
        "df = pd.read_csv(file_path)\n"
      ],
      "metadata": {
        "id": "v_6UjJpoXVh_"
      },
      "execution_count": null,
      "outputs": []
    },
    {
      "cell_type": "code",
      "source": [
        "df.drop('Unnamed: 0', axis=1, inplace=True)\n",
        "df.to_csv(file_path, index=False)\n"
      ],
      "metadata": {
        "id": "DfQi5iYipIMI"
      },
      "execution_count": null,
      "outputs": []
    },
    {
      "cell_type": "code",
      "source": [
        "# Remove rows where \"Runs\" column has 'DNB'\n",
        "df = df[df['Runs'] != 'DNB']\n",
        "df = df[df['BF'] != '0']\n",
        "df = df[df['BF'] != '-']\n",
        "df = df[df['BF'] != '']\n",
        "# Optional: Reset the index after deletion\n",
        "df = df.reset_index(drop=True)\n",
        "# Save the cleaned DataFrame back to the same file (overwrite)\n",
        "df.to_csv(file_path, index=False)\n"
      ],
      "metadata": {
        "id": "EIUAfH1hXZ08"
      },
      "execution_count": null,
      "outputs": []
    },
    {
      "cell_type": "code",
      "source": [
        "# added new column to track not out.# Create a 'Not Out' column: 1 if * present, else 0\n",
        "df['Not Out'] = df['Runs'].apply(lambda x: 1 if '*' in str(x) else 0)\n",
        "# Remove '*' from 'Runs' and convert to numeric\n",
        "df['Runs'] = df['Runs'].str.replace('*', '', regex=False)\n",
        "# Optional: Save back to the same CSV file\n",
        "df.to_csv(file_path, index=False)\n"
      ],
      "metadata": {
        "id": "4zCSd9mjYAH5"
      },
      "execution_count": null,
      "outputs": []
    },
    {
      "cell_type": "code",
      "source": [
        "df.drop('Mins', axis=1, inplace=True)\n",
        "df.to_csv(file_path, index=False)"
      ],
      "metadata": {
        "id": "dn06W5CrbvkN"
      },
      "execution_count": null,
      "outputs": []
    },
    {
      "cell_type": "code",
      "source": [
        "# Replace blanks or '-' with 0 in '4s' and '6s' columns\n",
        "df['4s'] = df['4s'].replace(['', '-'], '0')\n",
        "df['6s'] = df['6s'].replace(['', '-'], '0')\n",
        "df.to_csv(file_path, index=False)"
      ],
      "metadata": {
        "id": "sj1HYUk1qgPc"
      },
      "execution_count": null,
      "outputs": []
    },
    {
      "cell_type": "code",
      "source": [
        "# Remove the leading 'v ' (v and space) from the Opposition column\n",
        "df['Opposition'] = df['Opposition'].str.lstrip('v ').str.lstrip()\n",
        "df.to_csv(file_path, index=False)"
      ],
      "metadata": {
        "id": "H16jnT1PrNYu"
      },
      "execution_count": null,
      "outputs": []
    },
    {
      "cell_type": "code",
      "source": [
        "df['BF'] = pd.to_numeric(df['BF'], errors='coerce').astype('Int64')\n",
        "df['SR'] = pd.to_numeric(df['SR'], errors='coerce').astype('float64')\n",
        "df['4s'] = pd.to_numeric(df['4s'], errors='coerce').astype('Int64')\n",
        "df['6s'] = pd.to_numeric(df['6s'], errors='coerce').astype('Int64')\n",
        "df['Innings'] = pd.to_numeric(df['Innings'], errors='coerce').astype('Int64')\n",
        "df.to_csv(file_path, index=False)"
      ],
      "metadata": {
        "id": "qEUlr7k3cZBG"
      },
      "execution_count": null,
      "outputs": []
    },
    {
      "cell_type": "code",
      "source": [
        "df['Runs'] = pd.to_numeric(df['Runs'], errors='coerce').astype('Int64')\n",
        "df.to_csv(file_path, index=False)"
      ],
      "metadata": {
        "id": "Wfcecefvtc6C"
      },
      "execution_count": null,
      "outputs": []
    },
    {
      "cell_type": "code",
      "source": [
        "# Convert Date column to datetime format\n",
        "df['Date'] = pd.to_datetime(df['Date'], format='%d %b %Y')  # Example format: \"8 Dec 2024\"\n",
        "df.to_csv(file_path, index=False)"
      ],
      "metadata": {
        "id": "0eFwEKgWrlxd"
      },
      "execution_count": null,
      "outputs": []
    },
    {
      "cell_type": "code",
      "source": [
        "# Sort the data by Date in descending order\n",
        "df = df.sort_values(by='Date', ascending=False)\n",
        "df.to_csv(file_path, index=False)"
      ],
      "metadata": {
        "id": "NeAza5Jytua9"
      },
      "execution_count": null,
      "outputs": []
    },
    {
      "cell_type": "code",
      "source": [
        "print(df.head())\n",
        "print(df.info())"
      ],
      "metadata": {
        "colab": {
          "base_uri": "https://localhost:8080/"
        },
        "id": "W1g0tvWaYzw9",
        "outputId": "1de4feb8-2bd6-4bf9-e102-590603980acb"
      },
      "execution_count": null,
      "outputs": [
        {
          "output_type": "stream",
          "name": "stdout",
          "text": [
            "                  Name  Runs  BF  4s  6s     SR  Innings   Opposition  \\\n",
            "0   Mahmudul Hasan Joy     3  12   0   0  25.00        1  West Indies   \n",
            "11  Mahmudul Hasan Joy     0   5   0   0   0.00        3  West Indies   \n",
            "12       Shadman Islam    46  82   7   0  56.09        3  West Indies   \n",
            "9         Hasan Mahmud     5  10   1   0  50.00        1  West Indies   \n",
            "8         Taskin Ahmed     8  16   1   0  50.00        1  West Indies   \n",
            "\n",
            "      Ground       Date  Not Out  \n",
            "0   Kingston 2024-11-30        0  \n",
            "11  Kingston 2024-11-30        0  \n",
            "12  Kingston 2024-11-30        0  \n",
            "9   Kingston 2024-11-30        1  \n",
            "8   Kingston 2024-11-30        0  \n",
            "<class 'pandas.core.frame.DataFrame'>\n",
            "Index: 3037 entries, 0 to 3036\n",
            "Data columns (total 11 columns):\n",
            " #   Column      Non-Null Count  Dtype         \n",
            "---  ------      --------------  -----         \n",
            " 0   Name        3037 non-null   object        \n",
            " 1   Runs        3037 non-null   Int64         \n",
            " 2   BF          3037 non-null   Int64         \n",
            " 3   4s          3037 non-null   Int64         \n",
            " 4   6s          3037 non-null   Int64         \n",
            " 5   SR          3037 non-null   float64       \n",
            " 6   Innings     3037 non-null   Int64         \n",
            " 7   Opposition  3037 non-null   object        \n",
            " 8   Ground      3037 non-null   object        \n",
            " 9   Date        3037 non-null   datetime64[ns]\n",
            " 10  Not Out     3037 non-null   int64         \n",
            "dtypes: Int64(5), datetime64[ns](1), float64(1), int64(1), object(3)\n",
            "memory usage: 299.5+ KB\n",
            "None\n"
          ]
        }
      ]
    }
  ]
}