{
  "nbformat": 4,
  "nbformat_minor": 0,
  "metadata": {
    "colab": {
      "provenance": []
    },
    "kernelspec": {
      "name": "python3",
      "display_name": "Python 3"
    },
    "language_info": {
      "name": "python"
    }
  },
  "cells": [
    {
      "cell_type": "code",
      "execution_count": null,
      "metadata": {
        "id": "neSmBEPx7gPQ"
      },
      "outputs": [],
      "source": [
        "import pandas as pd"
      ]
    },
    {
      "cell_type": "code",
      "source": [
        "file_path = 'tallrounder.csv'\n",
        "df = pd.read_csv(file_path)"
      ],
      "metadata": {
        "id": "75joqVh_8XND"
      },
      "execution_count": null,
      "outputs": []
    },
    {
      "cell_type": "code",
      "source": [
        "df.drop('Unnamed: 0', axis=1, inplace=True)\n",
        "df.to_csv(file_path, index=False)"
      ],
      "metadata": {
        "id": "luFjKAZp-4rJ"
      },
      "execution_count": null,
      "outputs": []
    },
    {
      "cell_type": "code",
      "source": [
        "# Replace blanks or '-' with 0 in '4s' and '6s' columns\n",
        "df['Runs'] = df['Runs'].replace(['', '-', 'DNB'], '0*')\n",
        "df['Wkts'] = df['Wkts'].replace(['', '-'], '0')\n",
        "df['Conc'] = df['Conc'].replace(['', '-'], '0')\n",
        "df.to_csv(file_path, index=False)"
      ],
      "metadata": {
        "id": "tst8F_lw_W33"
      },
      "execution_count": null,
      "outputs": []
    },
    {
      "cell_type": "code",
      "source": [
        "# added new column to track not out.# Create a 'Not Out' column: 1 if * present, else 0\n",
        "df['Not Out'] = df['Runs'].apply(lambda x: 1 if '*' in str(x) else 0)\n",
        "# Remove '*' from 'Runs' and convert to numeric\n",
        "df['Runs'] = df['Runs'].str.replace('*', '', regex=False)\n",
        "# Optional: Save back to the same CSV file\n",
        "df.to_csv(file_path, index=False)\n"
      ],
      "metadata": {
        "id": "1_gTxJoJXb_P"
      },
      "execution_count": null,
      "outputs": []
    },
    {
      "cell_type": "code",
      "source": [
        "# Remove the leading 'v ' (v and space) from the Opposition column\n",
        "df['Opposition'] = df['Opposition'].str.lstrip('v ').str.lstrip()\n",
        "df.to_csv(file_path, index=False)"
      ],
      "metadata": {
        "id": "ZlsP0jBuXv-f"
      },
      "execution_count": null,
      "outputs": []
    },
    {
      "cell_type": "code",
      "source": [
        "df['Runs'] = pd.to_numeric(df['Runs'], errors='coerce').astype('Int64')\n",
        "df['Wkts'] = pd.to_numeric(df['Wkts'], errors='coerce').astype('Int64')\n",
        "df['Conc'] = pd.to_numeric(df['Conc'], errors='coerce').astype('Int64')\n",
        "df['Ct'] = pd.to_numeric(df['Ct'], errors='coerce').astype('Int64')\n",
        "df['St'] = pd.to_numeric(df['St'], errors='coerce').astype('Int64')\n",
        "\n",
        "df.to_csv(file_path, index=False)"
      ],
      "metadata": {
        "id": "3Qc6m6yUYVvN"
      },
      "execution_count": null,
      "outputs": []
    },
    {
      "cell_type": "code",
      "source": [
        "# Convert Date column to datetime format\n",
        "df['Date'] = pd.to_datetime(df['Date'], format='%d %b %Y')  # Example format: \"8 Dec 2024\"\n",
        "df.to_csv(file_path, index=False)"
      ],
      "metadata": {
        "id": "icdDcgzaZkbU"
      },
      "execution_count": null,
      "outputs": []
    },
    {
      "cell_type": "code",
      "source": [
        "# Replace blanks or '-' with 0 in '4s' and '6s' columns\n",
        "df['runs'] = df['runs'].replace(['', '-', 'DNB'], '0*')\n",
        "df['Wkts'] = df['Wkts'].replace(['', '-'], '0')\n",
        "df['Conc'] = df['Conc'].replace(['', '-'], '0')\n",
        "\n",
        "# added new column to track not out.# Create a 'Not Out' column: 1 if * present, else 0\n",
        "df['Not Out1'] = df['Run1'].apply(lambda x: 1 if '*' in str(x) else 0)\n",
        "df['Not Out2'] = df['run2'].apply(lambda x: 1 if '*' in str(x) else 0)\n",
        "# Remove '*' from 'Runs' and convert to numeric\n",
        "df['Run1'] = df['Run1'].str.replace('*', '', regex=False)\n",
        "df['run2'] = df['run2'].str.replace('*', '', regex=False)\n",
        "# Optional: Save back to the same CSV file\n",
        "df.to_csv(file_path, index=False)\n",
        "\n",
        "# Remove the leading 'v ' (v and space) from the Opposition column\n",
        "df['Opposition'] = df['Opposition'].str.lstrip('v ').str.lstrip()\n",
        "df.to_csv(file_path, index=False)\n",
        "\n",
        "df['runs'] = pd.to_numeric(df['runs'], errors='coerce').astype('Int64')\n",
        "df['Wkts'] = pd.to_numeric(df['Wkts'], errors='coerce').astype('Int64')\n",
        "df['Conc'] = pd.to_numeric(df['Conc'], errors='coerce').astype('Int64')\n",
        "df['Ct'] = pd.to_numeric(df['Ct'], errors='coerce').astype('Int64')\n",
        "df['St'] = pd.to_numeric(df['St'], errors='coerce').astype('Int64')\n",
        "df['Run1'] = pd.to_numeric(df['Run1'], errors='coerce').astype('Int64')\n",
        "df['run2'] = pd.to_numeric(df['run2'], errors='coerce').astype('Int64')\n",
        "\n",
        "# Convert Date column to datetime format\n",
        "df['Date'] = pd.to_datetime(df['Date'], format='%d %b %Y')  # Example format: \"8 Dec 2024\"\n",
        "df.to_csv(file_path, index=False)"
      ],
      "metadata": {
        "id": "xeYh3eWucj2i"
      },
      "execution_count": null,
      "outputs": []
    }
  ]
}