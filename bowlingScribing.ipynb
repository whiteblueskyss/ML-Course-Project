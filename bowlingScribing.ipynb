{
  "nbformat": 4,
  "nbformat_minor": 0,
  "metadata": {
    "colab": {
      "provenance": []
    },
    "kernelspec": {
      "name": "python3",
      "display_name": "Python 3"
    },
    "language_info": {
      "name": "python"
    }
  },
  "cells": [
    {
      "cell_type": "code",
      "execution_count": null,
      "metadata": {
        "id": "mzp0XSqRJZQ0"
      },
      "outputs": [],
      "source": [
        "import requests\n",
        "from bs4 import BeautifulSoup\n",
        "import pandas as pd"
      ]
    },
    {
      "cell_type": "code",
      "source": [
        "odi = []\n",
        "for i in range(1,98):\n",
        "\n",
        "  url = f\"https://stats.espncricinfo.com/ci/engine/stats/index.html?class=2;filter=advanced;orderby=start;orderbyad=reverse;page={i};team=25;template=results;type=bowling;view=match\"\n",
        "  headers = {\n",
        "      \"User-Agent\": \"Mozilla/5.0 (Windows NT 10.0; Win64; x64) AppleWebKit/537.36 (KHTML, like Gecko) Chrome/124.0.0.0 Safari/537.36\"\n",
        "  }\n",
        "\n",
        "  response = requests.get(url, headers=headers)\n",
        "  response = response.content\n",
        "  soup = BeautifulSoup(response, 'html.parser')\n",
        "  tbody = soup.find(\"tbody\")\n",
        "  tr = tbody.find_all('tr', class_ = 'data1')\n",
        "\n",
        "  for td in tr:\n",
        "    datas = td.find_all('td')\n",
        "    name  = datas[0].text\n",
        "    over  = datas[1].text\n",
        "    mdns = datas[2].text\n",
        "    runs = datas[3].text\n",
        "    wkts = datas[4].text\n",
        "    econ = datas[5].text\n",
        "    avg = datas[6].text\n",
        "    sr = datas[7].text\n",
        "    opposition = datas[9].text\n",
        "    ground = datas[10].text\n",
        "    date = datas[11].text\n",
        "\n",
        "    odi.append([name,over,mdns,runs,wkts,econ,avg,sr, opposition,ground,date])\n",
        "\n",
        "df = pd.DataFrame(odi, columns=['Name','Overs','Mdns','Runs','Wkts','Econ','Avg','SR','Opposition','Ground','Date'])\n",
        "df.to_csv('odibowling.csv')"
      ],
      "metadata": {
        "id": "dgC-ts21J3LH"
      },
      "execution_count": null,
      "outputs": []
    },
    {
      "cell_type": "code",
      "source": [
        "test = []\n",
        "for i in range(1,34):\n",
        "\n",
        "  url = f\"https://stats.espncricinfo.com/ci/engine/stats/index.html?class=1;filter=advanced;orderby=start;orderbyad=reverse;page={i};team=25;template=results;type=bowling;view=match\"\n",
        "  headers = {\n",
        "      \"User-Agent\": \"Mozilla/5.0 (Windows NT 10.0; Win64; x64) AppleWebKit/537.36 (KHTML, like Gecko) Chrome/124.0.0.0 Safari/537.36\"\n",
        "  }\n",
        "\n",
        "  response = requests.get(url, headers=headers)\n",
        "  response = response.content\n",
        "  soup = BeautifulSoup(response, 'html.parser')\n",
        "  tbody = soup.find(\"tbody\")\n",
        "  tr = tbody.find_all('tr', class_ = 'data1')\n",
        "\n",
        "  for td in tr:\n",
        "    datas = td.find_all('td')\n",
        "    name  = datas[0].text\n",
        "    over  = datas[1].text\n",
        "    mdns = datas[2].text\n",
        "    runs = datas[3].text\n",
        "    wkts = datas[4].text\n",
        "    econ = datas[5].text\n",
        "    avg = datas[6].text\n",
        "    sr = datas[7].text\n",
        "    opposition = datas[9].text\n",
        "    ground = datas[10].text\n",
        "    date = datas[11].text\n",
        "\n",
        "    test.append([name,over,mdns,runs,wkts,econ,avg,sr, opposition,ground,date])\n",
        "\n",
        "df = pd.DataFrame(test, columns=['Name','Overs','Mdns','Runs','Wkts','Econ','Avg','SR','Opposition','Ground','Date'])\n",
        "df.to_csv('testbowling.csv')"
      ],
      "metadata": {
        "id": "DEmjX8beNcXs"
      },
      "execution_count": null,
      "outputs": []
    },
    {
      "cell_type": "code",
      "source": [
        "t20 = []\n",
        "for i in range(1,40):\n",
        "\n",
        "  url = f\"https://stats.espncricinfo.com/ci/engine/stats/index.html?class=3;filter=advanced;orderby=start;orderbyad=reverse;page={i};team=25;template=results;type=bowling;view=match\"\n",
        "  headers = {\n",
        "      \"User-Agent\": \"Mozilla/5.0 (Windows NT 10.0; Win64; x64) AppleWebKit/537.36 (KHTML, like Gecko) Chrome/124.0.0.0 Safari/537.36\"\n",
        "  }\n",
        "\n",
        "  response = requests.get(url, headers=headers)\n",
        "  response = response.content\n",
        "  soup = BeautifulSoup(response, 'html.parser')\n",
        "  tbody = soup.find(\"tbody\")\n",
        "  tr = tbody.find_all('tr', class_ = 'data1')\n",
        "\n",
        "  for td in tr:\n",
        "    datas = td.find_all('td')\n",
        "    name  = datas[0].text\n",
        "    over  = datas[1].text\n",
        "    mdns = datas[2].text\n",
        "    runs = datas[3].text\n",
        "    wkts = datas[4].text\n",
        "    econ = datas[5].text\n",
        "    avg = datas[6].text\n",
        "    sr = datas[7].text\n",
        "    opposition = datas[9].text\n",
        "    ground = datas[10].text\n",
        "    date = datas[11].text\n",
        "\n",
        "    t20.append([name,over,mdns,runs,wkts,econ,avg,sr, opposition,ground,date])\n",
        "\n",
        "df = pd.DataFrame(t20, columns=['Name','Overs','Mdns','Runs','Wkts','Econ','Avg','SR','Opposition','Ground','Date'])\n",
        "df.to_csv('t20bowling.csv')"
      ],
      "metadata": {
        "id": "IjdhoXL3OOXC"
      },
      "execution_count": null,
      "outputs": []
    }
  ]
}